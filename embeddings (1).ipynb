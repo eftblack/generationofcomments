{
  "nbformat": 4,
  "nbformat_minor": 0,
  "metadata": {
    "colab": {
      "name": "embeddings.ipynb",
      "version": "0.3.2",
      "provenance": [],
      "collapsed_sections": []
    },
    "language_info": {
      "codemirror_mode": {
        "name": "ipython",
        "version": 3
      },
      "file_extension": ".py",
      "mimetype": "text/x-python",
      "name": "python",
      "nbconvert_exporter": "python",
      "pygments_lexer": "ipython3",
      "version": "3.6.2"
    },
    "kernelspec": {
      "display_name": "Python 3",
      "language": "python",
      "name": "python3"
    }
  },
  "cells": [
    {
      "cell_type": "code",
      "metadata": {
        "id": "_wzZDVPhN9AU",
        "colab_type": "code",
        "outputId": "0d53685c-f323-455e-ab12-1e0b0f1e2f5b",
        "colab": {
          "base_uri": "https://localhost:8080/",
          "height": 377
        }
      },
      "source": [
        "# download the data:\n",
      
      ],
      "execution_count": 1,
      "outputs": [
        {
          "output_type": "stream",
          "text": [
           
            "Length: 33813903 (32M) [application/binary]\n",
            "Saving to: ‘./quora.txt’\n",
            "\n",
            "./quora.txt         100%[===================>]  32.25M  38.1MB/s    in 0.8s    \n",
            "\n",
            "2019-07-09 14:41:28 (38.1 MB/s) - ‘./quora.txt’ saved [33813903/33813903]\n",
            "\n"
          ],
          "name": "stdout"
        }
      ]
    },
    {
      "cell_type": "code",
      "metadata": {
        "scrolled": false,
        "id": "jsTtkxtUN9Ah",
        "colab_type": "code",
        "outputId": "7c5ccf51-e72f-4021-aa1b-fd8507a1d919",
        "colab": {
          "base_uri": "https://localhost:8080/",
          "height": 34
        }
      },
      "source": [
        "import numpy as np\n",
        "\n",
        "data = list(open(\"./quora.txt\"))\n",
        "data[50]"
      ],
      "execution_count": 2,
      "outputs": [
        {
          "output_type": "execute_result",
          "data": {
            "text/plain": [
              "\"What TV shows or books help you read people's body language?\\n\""
            ]
          },
          "metadata": {
            "tags": []
          },
          "execution_count": 2
        }
      ]
    },
    {
      "cell_type": "code",
      "metadata": {
        "id": "C-7GgDB5N9At",
        "colab_type": "code",
        "outputId": "ea56276e-ded3-45e5-f833-4af538f6adb0",
        "colab": {
          "base_uri": "https://localhost:8080/",
          "height": 34
        }
      },
      "source": [
        "from nltk.tokenize import WordPunctTokenizer\n",
        "tokenizer = WordPunctTokenizer()\n",
        "\n",
        "print(tokenizer.tokenize(data[50]))"
      ],
      "execution_count": 3,
      "outputs": [
        {
          "output_type": "stream",
          "text": [
            "['What', 'TV', 'shows', 'or', 'books', 'help', 'you', 'read', 'people', \"'\", 's', 'body', 'language', '?']\n"
          ],
          "name": "stdout"
        }
      ]
    },
    {
      "cell_type": "code",
      "metadata": {
        "id": "S7o7sKNON9Az",
        "colab_type": "code",
        "colab": {}
      },
      "source": [
       
        "\n",
        "data_tok = [tokenizer.tokenize(sent.lower()) for sent in data]"
      ],
      "execution_count": 0,
      "outputs": []
    },
    {
      "cell_type": "code",
      "metadata": {
        "id": "1_bX-BkQN9A6",
        "colab_type": "code",
        "colab": {}
      },
      "source": [
        "assert all(isinstance(row, (list, tuple)) for row in data_tok), \"please convert each line into a list of tokens (strings)\"\n",
        "assert all(all(isinstance(tok, str) for tok in row) for row in data_tok), \"please convert each line into a list of tokens (strings)\"\n",
        "is_latin = lambda tok: all('a' <= x.lower() <= 'z' for x in tok)\n",
        "assert all(map(lambda l: not is_latin(l) or l.islower(), map(' '.join, data_tok))), \"please make sure to lowercase the data\""
      ],
      "execution_count": 0,
      "outputs": []
    },
    {
      "cell_type": "code",
      "metadata": {
        "id": "CxLUTExlN9BE",
        "colab_type": "code",
        "outputId": "3c4f6e77-55dc-4987-bb43-ab2776fe8639",
        "colab": {
          "base_uri": "https://localhost:8080/",
          "height": 34
        }
      },
      "source": [
        "print([' '.join(row) for row in data_tok[:2]])"
      ],
      "execution_count": 6,
      "outputs": [
        {
          "output_type": "stream",
          "text": [
            "[\"can i get back with my ex even though she is pregnant with another guy ' s baby ?\", 'what are some ways to overcome a fast food addiction ?']\n"
          ],
          "name": "stdout"
        }
      ]
    },
    {
      "cell_type": "code",
      "metadata": {
        "id": "YLRIKcbPN9BU",
        "colab_type": "code",
        "colab": {}
      },
      "source": [
        "from gensim.models import Word2Vec\n",
        "model = Word2Vec(data_tok, \n",
        "                 size=32,      # embedding vector size\n",
        "                 min_count=5,  # consider words that occured at least 5 times\n",
        "                 window=5).wv  # define context as a 5-word window around the target word"
      ],
      "execution_count": 0,
      "outputs": []
    },
    {
      "cell_type": "code",
      "metadata": {
        "id": "lqEMRWXhN9Bm",
        "colab_type": "code",
        "outputId": "85ff7021-b6a0-4c9e-f31b-3913306b2406",
        "colab": {
          "base_uri": "https://localhost:8080/",
          "height": 136
        }
      },
      "source": [
       
        "model.get_vector('anything')"
      ],
      "execution_count": 8,
      "outputs": [
        {
          "output_type": "execute_result",
          "data": {
            "text/plain": [
              "array([-0.79836154,  0.33225027,  1.7559023 ,  0.60504335, -0.82543   ,\n",
              "        0.5880591 , -0.36821753, -0.9874448 ,  1.3728731 , -0.45093566,\n",
              "        0.52246577,  3.016654  ,  0.1744841 ,  0.33759734, -1.7695727 ,\n",
              "       -2.0116947 ,  2.5871036 ,  0.66986436, -2.1350327 ,  0.18278894,\n",
              "        0.73932356, -1.4431838 ,  1.2508906 ,  0.83687955, -3.6833138 ,\n",
              "        1.3461334 ,  1.3096588 ,  3.6814811 ,  4.485225  , -5.483228  ,\n",
              "        1.7804494 , -0.23753855], dtype=float32)"
            ]
          },
          "metadata": {
            "tags": []
          },
          "execution_count": 8
        }
      ]
    },
    {
      "cell_type": "code",
      "metadata": {
        "id": "Zq2fPkdNN9B9",
        "colab_type": "code",
        "outputId": "68816f51-f153-40e8-cf58-aadb89d5acce",
        "colab": {
          "base_uri": "https://localhost:8080/",
          "height": 241
        }
      },
      "source": [
        "# or query similar words directly. Go play with it!\n",
        "model.most_similar('bread')"
      ],
      "execution_count": 9,
      "outputs": [
        {
          "output_type": "stream",
          "text": [
            "/usr/local/lib/python3.6/dist-packages/gensim/matutils.py:737: FutureWarning: Conversion of the second argument of issubdtype from `int` to `np.signedinteger` is deprecated. In future, it will be treated as `np.int64 == np.dtype(int).type`.\n",
            "  if np.issubdtype(vec.dtype, np.int):\n"
          ],
          "name": "stderr"
        },
        {
          "output_type": "execute_result",
          "data": {
            "text/plain": [
              "[('rice', 0.9614554643630981),\n",
              " ('cheese', 0.9428352117538452),\n",
              " ('butter', 0.9283957481384277),\n",
              " ('sauce', 0.9271044135093689),\n",
              " ('pasta', 0.919524073600769),\n",
              " ('corn', 0.9178339242935181),\n",
              " ('chocolate', 0.9143233299255371),\n",
              " ('cream', 0.9063249826431274),\n",
              " ('fruit', 0.9044536352157593),\n",
              " ('beans', 0.9036909341812134)]"
            ]
          },
          "metadata": {
            "tags": []
          },
          "execution_count": 9
        }
      ]
    },
    {
      "cell_type": "code",
      "metadata": {
        "id": "fQve_VqiN9CI",
        "colab_type": "code",
        "outputId": "4767616f-81ef-420e-e695-0396abad60b9",
        "colab": {
          "base_uri": "https://localhost:8080/",
          "height": 88
        }
      },
      "source": [
        "import gensim.downloader as api\n",
        "model = api.load('glove-twitter-100')"
      ],
      "execution_count": 10,
      "outputs": [
        {
          "output_type": "stream",
          "text": [
            "[==================================================] 100.0% 387.1/387.1MB downloaded\n"
          ],
          "name": "stdout"
        },
        {
          "output_type": "stream",
          "text": [
            "/usr/local/lib/python3.6/dist-packages/smart_open/smart_open_lib.py:398: UserWarning: This function is deprecated, use smart_open.open instead. See the migration notes for details: https://github.com/RaRe-Technologies/smart_open/blob/master/README.rst#migrating-to-the-new-open-function\n",
            "  'See the migration notes for details: %s' % _MIGRATION_NOTES_URL\n"
          ],
          "name": "stderr"
        }
      ]
    },
    {
      "cell_type": "code",
      "metadata": {
        "id": "q_ndcycQN9CS",
        "colab_type": "code",
        "colab": {
          "base_uri": "https://localhost:8080/",
          "height": 241
        },
        "outputId": "378b91b8-0792-4158-e2bd-6193c4f5ada1"
      },
      "source": [
        "model.most_similar(positive=[\"coder\", \"money\"], negative=[\"brain\"])"
      ],
      "execution_count": 11,
      "outputs": [
        {
          "output_type": "stream",
          "text": [
            "/usr/local/lib/python3.6/dist-packages/gensim/matutils.py:737: FutureWarning: Conversion of the second argument of issubdtype from `int` to `np.signedinteger` is deprecated. In future, it will be treated as `np.int64 == np.dtype(int).type`.\n",
            "  if np.issubdtype(vec.dtype, np.int):\n"
          ],
          "name": "stderr"
        },
        {
          "output_type": "execute_result",
          "data": {
            "text/plain": [
              "[('broker', 0.5820155739784241),\n",
              " ('bonuses', 0.5424473285675049),\n",
              " ('banker', 0.538511335849762),\n",
              " ('designer', 0.5197198390960693),\n",
              " ('merchandising', 0.4964233934879303),\n",
              " ('treet', 0.49220192432403564),\n",
              " ('shopper', 0.4920561909675598),\n",
              " ('part-time', 0.49128279089927673),\n",
              " ('freelance', 0.4843311905860901),\n",
              " ('aupair', 0.4796452522277832)]"
            ]
          },
          "metadata": {
            "tags": []
          },
          "execution_count": 11
        }
      ]
    },
    {
      "cell_type": "code",
      "metadata": {
        "id": "wHE7I-c_N9CZ",
        "colab_type": "code",
        "outputId": "ef5bdd57-1e2e-415e-ac50-093773cdec31",
        "colab": {
          "base_uri": "https://localhost:8080/",
          "height": 34
        }
      },
      "source": [
        "words = sorted(model.vocab.keys(), \n",
        "               key=lambda word: model.vocab[word].count,\n",
        "               reverse=True)[:1000]\n",
        "\n",
        "print(words[::100])"
      ],
      "execution_count": 12,
      "outputs": [
        {
          "output_type": "stream",
          "text": [
            "['<user>', '_', 'please', 'apa', 'justin', 'text', 'hari', 'playing', 'once', 'sei']\n"
          ],
          "name": "stdout"
        }
      ]
    },
    {
      "cell_type": "code",
      "metadata": {
        "id": "zsxD7Fx3N9Ci",
        "colab_type": "code",
        "colab": {}
      },
      "source": [
        "# for each word, compute it's vector with model\n",
        "word_vectors = np.array([model.get_vector(word) for word in words])"
      ],
      "execution_count": 0,
      "outputs": []
    },
    {
      "cell_type": "code",
      "metadata": {
        "id": "mm57qR-DN9Cn",
        "colab_type": "code",
        "colab": {}
      },
      "source": [
        "assert isinstance(word_vectors, np.ndarray)\n",
        "assert word_vectors.shape == (len(words), 100)\n",
        "assert np.isfinite(word_vectors).all()"
      ],
      "execution_count": 0,
      "outputs": []
    },
    {
      "cell_type": "code",
      "metadata": {
        "id": "3sSQwTLaO9zo",
        "colab_type": "code",
        "colab": {}
      },
      "source": [
        "from sklearn.preprocessing import StandardScaler"
      ],
      "execution_count": 0,
      "outputs": []
    },
    {
      "cell_type": "code",
      "metadata": {
        "id": "Yx1CENEpPHbv",
        "colab_type": "code",
        "colab": {}
      },
      "source": [
        "scal = StandardScaler()"
      ],
      "execution_count": 0,
      "outputs": []
    },
    {
      "cell_type": "code",
      "metadata": {
        "id": "Vy3_eDI-N9Cv",
        "colab_type": "code",
        "colab": {}
      },
      "source": [
        "from sklearn.decomposition import PCA\n",
        "\n",
       
        "word_vectors_pca = PCA(n_components=2).fit_transform(word_vectors)\n",
        "word_vectors_pca = (word_vectors_pca - word_vectors_pca.mean(axis = 0)) / word_vectors_pca.std(axis = 0)\n",
      
      ],
      "execution_count": 0,
      "outputs": []
    },
    {
      "cell_type": "code",
      "metadata": {
        "id": "BDwIgc-PN9C4",
        "colab_type": "code",
        "colab": {}
      },
      "source": [
        "assert word_vectors_pca.shape == (len(word_vectors), 2), \"there must be a 2d vector for each word\"\n",
        "assert max(abs(word_vectors_pca.mean(0))) < 1e-5, \"points must be zero-centered\"\n",
        "assert max(abs(1.0 - word_vectors_pca.std(0))) < 1e-2, \"points must have unit variance\""
      ],
      "execution_count": 0,
      "outputs": []
    },
    {
      "cell_type": "code",
      "metadata": {
        "id": "3gfvIZaGOZ-d",
        "colab_type": "code",
        "colab": {}
      },
      "source": [
        "%matplotlib inline"
      ],
      "execution_count": 0,
      "outputs": []
    },
    {
      "cell_type": "code",
      "metadata": {
        "id": "hIvQ0jYQN9DC",
        "colab_type": "code",
        "colab": {
          "base_uri": "https://localhost:8080/",
          "height": 47
        },
        "outputId": "60c56e5e-3823-4427-8a62-4cb7a0c9f029"
      },
      "source": [
        "import bokeh.models as bm, bokeh.plotting as pl\n",
        "from bokeh.io import output_notebook\n",
        "output_notebook()\n",
        "\n",
        "def draw_vectors(x, y, radius=10, alpha=0.25, color='blue',\n",
        "                 width=600, height=400, show=True, **kwargs):\n",
        "    \"\"\" draws an interactive plot for data points with auxilirary info on hover \"\"\"\n",
        "    if isinstance(color, str): color = [color] * len(x)\n",
        "    data_source = bm.ColumnDataSource({ 'x' : x, 'y' : y, 'color': color, **kwargs })\n",
        "\n",
        "    fig = pl.figure(active_scroll='wheel_zoom', width=width, height=height)\n",
        "    fig.scatter('x', 'y', size=radius, color='color', alpha=alpha, source=data_source)\n",
        "\n",
        "    fig.add_tools(bm.HoverTool(tooltips=[(key, \"@\" + key) for key in kwargs.keys()]))\n",
        "    if show: pl.show(fig)\n",
        "    return fig"
      ],
      "execution_count": 22,
      "outputs": [
        {
          "output_type": "display_data",
          "data": {
            "text/html": [
              "\n",
              "    <div class=\"bk-root\">\n",
              "        <a href=\"https://bokeh.pydata.org\" target=\"_blank\" class=\"bk-logo bk-logo-small bk-logo-notebook\"></a>\n",
              "        <span id=\"1111\">Loading BokehJS ...</span>\n",
              "    </div>"
            ]
          },
          "metadata": {
            "tags": []
          }
        },
        {
          "output_type": "display_data",
          "data": {
            "application/javascript": [
              "\n",
              "(function(root) {\n",
              "  function now() {\n",
              "    return new Date();\n",
              "  }\n",
              "\n",
              "  var force = true;\n",
              "\n",
              "  if (typeof (root._bokeh_onload_callbacks) === \"undefined\" || force === true) {\n",
              "    root._bokeh_onload_callbacks = [];\n",
              "    root._bokeh_is_loading = undefined;\n",
              "  }\n",
              "\n",
              "  var JS_MIME_TYPE = 'application/javascript';\n",
              "  var HTML_MIME_TYPE = 'text/html';\n",
              "  var EXEC_MIME_TYPE = 'application/vnd.bokehjs_exec.v0+json';\n",
              "  var CLASS_NAME = 'output_bokeh rendered_html';\n",
              "\n",
              "  /**\n",
              "   * Render data to the DOM node\n",
              "   */\n",
              "  function render(props, node) {\n",
              "    var script = document.createElement(\"script\");\n",
              "    node.appendChild(script);\n",
              "  }\n",
              "\n",
              "  /**\n",
              "   * Handle when an output is cleared or removed\n",
              "   */\n",
              "  function handleClearOutput(event, handle) {\n",
              "    var cell = handle.cell;\n",
              "\n",
              "    var id = cell.output_area._bokeh_element_id;\n",
              "    var server_id = cell.output_area._bokeh_server_id;\n",
              "    // Clean up Bokeh references\n",
              "    if (id != null && id in Bokeh.index) {\n",
              "      Bokeh.index[id].model.document.clear();\n",
              "      delete Bokeh.index[id];\n",
              "    }\n",
              "\n",
              "    if (server_id !== undefined) {\n",
              "      // Clean up Bokeh references\n",
              "      var cmd = \"from bokeh.io.state import curstate; print(curstate().uuid_to_server['\" + server_id + \"'].get_sessions()[0].document.roots[0]._id)\";\n",
              "      cell.notebook.kernel.execute(cmd, {\n",
              "        iopub: {\n",
              "          output: function(msg) {\n",
              "            var id = msg.content.text.trim();\n",
              "            if (id in Bokeh.index) {\n",
              "              Bokeh.index[id].model.document.clear();\n",
              "              delete Bokeh.index[id];\n",
              "            }\n",
              "          }\n",
              "        }\n",
              "      });\n",
              "      // Destroy server and session\n",
              "      var cmd = \"import bokeh.io.notebook as ion; ion.destroy_server('\" + server_id + \"')\";\n",
              "      cell.notebook.kernel.execute(cmd);\n",
              "    }\n",
              "  }\n",
              "\n",
              "  /**\n",
              "   * Handle when a new output is added\n",
              "   */\n",
              "  function handleAddOutput(event, handle) {\n",
              "    var output_area = handle.output_area;\n",
              "    var output = handle.output;\n",
              "\n",
              "    // limit handleAddOutput to display_data with EXEC_MIME_TYPE content only\n",
              "    if ((output.output_type != \"display_data\") || (!output.data.hasOwnProperty(EXEC_MIME_TYPE))) {\n",
              "      return\n",
              "    }\n",
              "\n",
              "    var toinsert = output_area.element.find(\".\" + CLASS_NAME.split(' ')[0]);\n",
              "\n",
              "    if (output.metadata[EXEC_MIME_TYPE][\"id\"] !== undefined) {\n",
              "      toinsert[toinsert.length - 1].firstChild.textContent = output.data[JS_MIME_TYPE];\n",
              "      // store reference to embed id on output_area\n",
              "      output_area._bokeh_element_id = output.metadata[EXEC_MIME_TYPE][\"id\"];\n",
              "    }\n",
              "    if (output.metadata[EXEC_MIME_TYPE][\"server_id\"] !== undefined) {\n",
              "      var bk_div = document.createElement(\"div\");\n",
              "      bk_div.innerHTML = output.data[HTML_MIME_TYPE];\n",
              "      var script_attrs = bk_div.children[0].attributes;\n",
              "      for (var i = 0; i < script_attrs.length; i++) {\n",
              "        toinsert[toinsert.length - 1].firstChild.setAttribute(script_attrs[i].name, script_attrs[i].value);\n",
              "      }\n",
              "      // store reference to server id on output_area\n",
              "      output_area._bokeh_server_id = output.metadata[EXEC_MIME_TYPE][\"server_id\"];\n",
              "    }\n",
              "  }\n",
              "\n",
              "  function register_renderer(events, OutputArea) {\n",
              "\n",
              "    function append_mime(data, metadata, element) {\n",
              "      // create a DOM node to render to\n",
              "      var toinsert = this.create_output_subarea(\n",
              "        metadata,\n",
              "        CLASS_NAME,\n",
              "        EXEC_MIME_TYPE\n",
              "      );\n",
              "      this.keyboard_manager.register_events(toinsert);\n",
              "      // Render to node\n",
              "      var props = {data: data, metadata: metadata[EXEC_MIME_TYPE]};\n",
              "      render(props, toinsert[toinsert.length - 1]);\n",
              "      element.append(toinsert);\n",
              "      return toinsert\n",
              "    }\n",
              "\n",
              "    /* Handle when an output is cleared or removed */\n",
              "    events.on('clear_output.CodeCell', handleClearOutput);\n",
              "    events.on('delete.Cell', handleClearOutput);\n",
              "\n",
              "    /* Handle when a new output is added */\n",
              "    events.on('output_added.OutputArea', handleAddOutput);\n",
              "\n",
              "    /**\n",
              "     * Register the mime type and append_mime function with output_area\n",
              "     */\n",
              "    OutputArea.prototype.register_mime_type(EXEC_MIME_TYPE, append_mime, {\n",
              "      /* Is output safe? */\n",
              "      safe: true,\n",
              "      /* Index of renderer in `output_area.display_order` */\n",
              "      index: 0\n",
              "    });\n",
              "  }\n",
              "\n",
              "  // register the mime type if in Jupyter Notebook environment and previously unregistered\n",
              "  if (root.Jupyter !== undefined) {\n",
              "    var events = require('base/js/events');\n",
              "    var OutputArea = require('notebook/js/outputarea').OutputArea;\n",
              "\n",
              "    if (OutputArea.prototype.mime_types().indexOf(EXEC_MIME_TYPE) == -1) {\n",
              "      register_renderer(events, OutputArea);\n",
              "    }\n",
              "  }\n",
              "\n",
              "  \n",
              "  if (typeof (root._bokeh_timeout) === \"undefined\" || force === true) {\n",
              "    root._bokeh_timeout = Date.now() + 5000;\n",
              "    root._bokeh_failed_load = false;\n",
              "  }\n",
              "\n",
              "  var NB_LOAD_WARNING = {'data': {'text/html':\n",
              "     \"<div style='background-color: #fdd'>\\n\"+\n",
              "     \"<p>\\n\"+\n",
              "     \"BokehJS does not appear to have successfully loaded. If loading BokehJS from CDN, this \\n\"+\n",
              "     \"may be due to a slow or bad network connection. Possible fixes:\\n\"+\n",
              "     \"</p>\\n\"+\n",
              "     \"<ul>\\n\"+\n",
              "     \"<li>re-rerun `output_notebook()` to attempt to load from CDN again, or</li>\\n\"+\n",
              "     \"<li>use INLINE resources instead, as so:</li>\\n\"+\n",
              "     \"</ul>\\n\"+\n",
              "     \"<code>\\n\"+\n",
              "     \"from bokeh.resources import INLINE\\n\"+\n",
              "     \"output_notebook(resources=INLINE)\\n\"+\n",
              "     \"</code>\\n\"+\n",
              "     \"</div>\"}};\n",
              "\n",
              "  function display_loaded() {\n",
              "    var el = document.getElementById(\"1111\");\n",
              "    if (el != null) {\n",
              "      el.textContent = \"BokehJS is loading...\";\n",
              "    }\n",
              "    if (root.Bokeh !== undefined) {\n",
              "      if (el != null) {\n",
              "        el.textContent = \"BokehJS \" + root.Bokeh.version + \" successfully loaded.\";\n",
              "      }\n",
              "    } else if (Date.now() < root._bokeh_timeout) {\n",
              "      setTimeout(display_loaded, 100)\n",
              "    }\n",
              "  }\n",
              "\n",
              "\n",
              "  function run_callbacks() {\n",
              "    try {\n",
              "      root._bokeh_onload_callbacks.forEach(function(callback) { callback() });\n",
              "    }\n",
              "    finally {\n",
              "      delete root._bokeh_onload_callbacks\n",
              "    }\n",
              "    console.info(\"Bokeh: all callbacks have finished\");\n",
              "  }\n",
              "\n",
              "  function load_libs(js_urls, callback) {\n",
              "    root._bokeh_onload_callbacks.push(callback);\n",
              "    if (root._bokeh_is_loading > 0) {\n",
              "      console.log(\"Bokeh: BokehJS is being loaded, scheduling callback at\", now());\n",
              "      return null;\n",
              "    }\n",
              "    if (js_urls == null || js_urls.length === 0) {\n",
              "      run_callbacks();\n",
              "      return null;\n",
              "    }\n",
              "    console.log(\"Bokeh: BokehJS not loaded, scheduling load and callback at\", now());\n",
              "    root._bokeh_is_loading = js_urls.length;\n",
              "    for (var i = 0; i < js_urls.length; i++) {\n",
              "      var url = js_urls[i];\n",
              "      var s = document.createElement('script');\n",
              "      s.src = url;\n",
              "      s.async = false;\n",
              "      s.onreadystatechange = s.onload = function() {\n",
              "        root._bokeh_is_loading--;\n",
              "        if (root._bokeh_is_loading === 0) {\n",
              "          console.log(\"Bokeh: all BokehJS libraries loaded\");\n",
              "          run_callbacks()\n",
              "        }\n",
              "      };\n",
              "      s.onerror = function() {\n",
              "        console.warn(\"failed to load library \" + url);\n",
              "      };\n",
              "      console.log(\"Bokeh: injecting script tag for BokehJS library: \", url);\n",
              "      document.getElementsByTagName(\"head\")[0].appendChild(s);\n",
              "    }\n",
              "  };var element = document.getElementById(\"1111\");\n",
              "  if (element == null) {\n",
              "    console.log(\"Bokeh: ERROR: autoload.js configured with elementid '1111' but no matching script tag was found. \")\n",
              "    return false;\n",
              "  }\n",
              "\n",
              "  var js_urls = [\"https://cdn.pydata.org/bokeh/release/bokeh-1.0.4.min.js\", \"https://cdn.pydata.org/bokeh/release/bokeh-widgets-1.0.4.min.js\", \"https://cdn.pydata.org/bokeh/release/bokeh-tables-1.0.4.min.js\", \"https://cdn.pydata.org/bokeh/release/bokeh-gl-1.0.4.min.js\"];\n",
              "\n",
              "  var inline_js = [\n",
              "    function(Bokeh) {\n",
              "      Bokeh.set_log_level(\"info\");\n",
              "    },\n",
              "    \n",
              "    function(Bokeh) {\n",
              "      \n",
              "    },\n",
              "    function(Bokeh) {\n",
              "      console.log(\"Bokeh: injecting CSS: https://cdn.pydata.org/bokeh/release/bokeh-1.0.4.min.css\");\n",
              "      Bokeh.embed.inject_css(\"https://cdn.pydata.org/bokeh/release/bokeh-1.0.4.min.css\");\n",
              "      console.log(\"Bokeh: injecting CSS: https://cdn.pydata.org/bokeh/release/bokeh-widgets-1.0.4.min.css\");\n",
              "      Bokeh.embed.inject_css(\"https://cdn.pydata.org/bokeh/release/bokeh-widgets-1.0.4.min.css\");\n",
              "      console.log(\"Bokeh: injecting CSS: https://cdn.pydata.org/bokeh/release/bokeh-tables-1.0.4.min.css\");\n",
              "      Bokeh.embed.inject_css(\"https://cdn.pydata.org/bokeh/release/bokeh-tables-1.0.4.min.css\");\n",
              "    }\n",
              "  ];\n",
              "\n",
              "  function run_inline_js() {\n",
              "    \n",
              "    if ((root.Bokeh !== undefined) || (force === true)) {\n",
              "      for (var i = 0; i < inline_js.length; i++) {\n",
              "        inline_js[i].call(root, root.Bokeh);\n",
              "      }if (force === true) {\n",
              "        display_loaded();\n",
              "      }} else if (Date.now() < root._bokeh_timeout) {\n",
              "      setTimeout(run_inline_js, 100);\n",
              "    } else if (!root._bokeh_failed_load) {\n",
              "      console.log(\"Bokeh: BokehJS failed to load within specified timeout.\");\n",
              "      root._bokeh_failed_load = true;\n",
              "    } else if (force !== true) {\n",
              "      var cell = $(document.getElementById(\"1111\")).parents('.cell').data().cell;\n",
              "      cell.output_area.append_execute_result(NB_LOAD_WARNING)\n",
              "    }\n",
              "\n",
              "  }\n",
              "\n",
              "  if (root._bokeh_is_loading === 0) {\n",
              "    console.log(\"Bokeh: BokehJS loaded, going straight to plotting\");\n",
              "    run_inline_js();\n",
              "  } else {\n",
              "    load_libs(js_urls, function() {\n",
              "      console.log(\"Bokeh: BokehJS plotting callback run at\", now());\n",
              "      run_inline_js();\n",
              "    });\n",
              "  }\n",
              "}(window));"
            ],
            "application/vnd.bokehjs_load.v0+json": "\n(function(root) {\n  function now() {\n    return new Date();\n  }\n\n  var force = true;\n\n  if (typeof (root._bokeh_onload_callbacks) === \"undefined\" || force === true) {\n    root._bokeh_onload_callbacks = [];\n    root._bokeh_is_loading = undefined;\n  }\n\n  \n\n  \n  if (typeof (root._bokeh_timeout) === \"undefined\" || force === true) {\n    root._bokeh_timeout = Date.now() + 5000;\n    root._bokeh_failed_load = false;\n  }\n\n  var NB_LOAD_WARNING = {'data': {'text/html':\n     \"<div style='background-color: #fdd'>\\n\"+\n     \"<p>\\n\"+\n     \"BokehJS does not appear to have successfully loaded. If loading BokehJS from CDN, this \\n\"+\n     \"may be due to a slow or bad network connection. Possible fixes:\\n\"+\n     \"</p>\\n\"+\n     \"<ul>\\n\"+\n     \"<li>re-rerun `output_notebook()` to attempt to load from CDN again, or</li>\\n\"+\n     \"<li>use INLINE resources instead, as so:</li>\\n\"+\n     \"</ul>\\n\"+\n     \"<code>\\n\"+\n     \"from bokeh.resources import INLINE\\n\"+\n     \"output_notebook(resources=INLINE)\\n\"+\n     \"</code>\\n\"+\n     \"</div>\"}};\n\n  function display_loaded() {\n    var el = document.getElementById(\"1111\");\n    if (el != null) {\n      el.textContent = \"BokehJS is loading...\";\n    }\n    if (root.Bokeh !== undefined) {\n      if (el != null) {\n        el.textContent = \"BokehJS \" + root.Bokeh.version + \" successfully loaded.\";\n      }\n    } else if (Date.now() < root._bokeh_timeout) {\n      setTimeout(display_loaded, 100)\n    }\n  }\n\n\n  function run_callbacks() {\n    try {\n      root._bokeh_onload_callbacks.forEach(function(callback) { callback() });\n    }\n    finally {\n      delete root._bokeh_onload_callbacks\n    }\n    console.info(\"Bokeh: all callbacks have finished\");\n  }\n\n  function load_libs(js_urls, callback) {\n    root._bokeh_onload_callbacks.push(callback);\n    if (root._bokeh_is_loading > 0) {\n      console.log(\"Bokeh: BokehJS is being loaded, scheduling callback at\", now());\n      return null;\n    }\n    if (js_urls == null || js_urls.length === 0) {\n      run_callbacks();\n      return null;\n    }\n    console.log(\"Bokeh: BokehJS not loaded, scheduling load and callback at\", now());\n    root._bokeh_is_loading = js_urls.length;\n    for (var i = 0; i < js_urls.length; i++) {\n      var url = js_urls[i];\n      var s = document.createElement('script');\n      s.src = url;\n      s.async = false;\n      s.onreadystatechange = s.onload = function() {\n        root._bokeh_is_loading--;\n        if (root._bokeh_is_loading === 0) {\n          console.log(\"Bokeh: all BokehJS libraries loaded\");\n          run_callbacks()\n        }\n      };\n      s.onerror = function() {\n        console.warn(\"failed to load library \" + url);\n      };\n      console.log(\"Bokeh: injecting script tag for BokehJS library: \", url);\n      document.getElementsByTagName(\"head\")[0].appendChild(s);\n    }\n  };var element = document.getElementById(\"1111\");\n  if (element == null) {\n    console.log(\"Bokeh: ERROR: autoload.js configured with elementid '1111' but no matching script tag was found. \")\n    return false;\n  }\n\n  var js_urls = [\"https://cdn.pydata.org/bokeh/release/bokeh-1.0.4.min.js\", \"https://cdn.pydata.org/bokeh/release/bokeh-widgets-1.0.4.min.js\", \"https://cdn.pydata.org/bokeh/release/bokeh-tables-1.0.4.min.js\", \"https://cdn.pydata.org/bokeh/release/bokeh-gl-1.0.4.min.js\"];\n\n  var inline_js = [\n    function(Bokeh) {\n      Bokeh.set_log_level(\"info\");\n    },\n    \n    function(Bokeh) {\n      \n    },\n    function(Bokeh) {\n      console.log(\"Bokeh: injecting CSS: https://cdn.pydata.org/bokeh/release/bokeh-1.0.4.min.css\");\n      Bokeh.embed.inject_css(\"https://cdn.pydata.org/bokeh/release/bokeh-1.0.4.min.css\");\n      console.log(\"Bokeh: injecting CSS: https://cdn.pydata.org/bokeh/release/bokeh-widgets-1.0.4.min.css\");\n      Bokeh.embed.inject_css(\"https://cdn.pydata.org/bokeh/release/bokeh-widgets-1.0.4.min.css\");\n      console.log(\"Bokeh: injecting CSS: https://cdn.pydata.org/bokeh/release/bokeh-tables-1.0.4.min.css\");\n      Bokeh.embed.inject_css(\"https://cdn.pydata.org/bokeh/release/bokeh-tables-1.0.4.min.css\");\n    }\n  ];\n\n  function run_inline_js() {\n    \n    if ((root.Bokeh !== undefined) || (force === true)) {\n      for (var i = 0; i < inline_js.length; i++) {\n        inline_js[i].call(root, root.Bokeh);\n      }if (force === true) {\n        display_loaded();\n      }} else if (Date.now() < root._bokeh_timeout) {\n      setTimeout(run_inline_js, 100);\n    } else if (!root._bokeh_failed_load) {\n      console.log(\"Bokeh: BokehJS failed to load within specified timeout.\");\n      root._bokeh_failed_load = true;\n    } else if (force !== true) {\n      var cell = $(document.getElementById(\"1111\")).parents('.cell').data().cell;\n      cell.output_area.append_execute_result(NB_LOAD_WARNING)\n    }\n\n  }\n\n  if (root._bokeh_is_loading === 0) {\n    console.log(\"Bokeh: BokehJS loaded, going straight to plotting\");\n    run_inline_js();\n  } else {\n    load_libs(js_urls, function() {\n      console.log(\"Bokeh: BokehJS plotting callback run at\", now());\n      run_inline_js();\n    });\n  }\n}(window));"
          },
          "metadata": {
            "tags": []
          }
        }
      ]
    },
    {
      "cell_type": "code",
      "metadata": {
        "id": "2CB85OdeN9DK",
        "colab_type": "code",
        "colab": {
          "base_uri": "https://localhost:8080/",
          "height": 447
        },
        "outputId": "7dd2520e-43da-4417-8752-e467a2f9c2c6"
      },
      "source": [
        "draw_vectors(word_vectors_pca[:, 0], word_vectors_pca[:, 1], token=words)\n",
        "output_notebook()\n",
        "# hover a mouse over there and see if you can identify the clusters"
      ],
      "execution_count": 25,
      "outputs": [
        {
          "output_type": "display_data",
          "data": {
            "text/html": [
              "\n",
              "\n",
              "\n",
              "\n",
              "\n",
              "\n",
              "  <div class=\"bk-root\" id=\"278269b4-5aff-4108-97f9-8deb1ae014fc\" data-root-id=\"1231\"></div>\n"
            ]
          },
          "metadata": {
            "tags": []
          }
        },
        {
          "output_type": "display_data",
          "data": {
            "application/javascript": [
              "(function(root) {\n",
              "  function embed_document(root) {\n",
              "    \n",
              "  var docs_json = {\"ccd9161f-5352-4c29-b4d5-c49effbbe96d\":{\"roots\":{\"references\":[{\"attributes\":{\"below\":[{\"id\":\"1240\",\"type\":\"LinearAxis\"}],\"left\":[{\"id\":\"1245\",\"type\":\"LinearAxis\"}],\"plot_height\":400,\"renderers\":[{\"id\":\"1240\",\"type\":\"LinearAxis\"},{\"id\":\"1244\",\"type\":\"Grid\"},{\"id\":\"1245\",\"type\":\"LinearAxis\"},{\"id\":\"1249\",\"type\":\"Grid\"},{\"id\":\"1258\",\"type\":\"BoxAnnotation\"},{\"id\":\"1268\",\"type\":\"GlyphRenderer\"}],\"title\":{\"id\":\"1291\",\"type\":\"Title\"},\"toolbar\":{\"id\":\"1256\",\"type\":\"Toolbar\"},\"x_range\":{\"id\":\"1232\",\"type\":\"DataRange1d\"},\"x_scale\":{\"id\":\"1236\",\"type\":\"LinearScale\"},\"y_range\":{\"id\":\"1234\",\"type\":\"DataRange1d\"},\"y_scale\":{\"id\":\"1238\",\"type\":\"LinearScale\"}},\"id\":\"1231\",\"subtype\":\"Figure\",\"type\":\"Plot\"},{\"attributes\":{\"fill_alpha\":{\"value\":0.25},\"fill_color\":{\"field\":\"color\"},\"line_alpha\":{\"value\":0.25},\"line_color\":{\"field\":\"color\"},\"size\":{\"units\":\"screen\",\"value\":10},\"x\":{\"field\":\"x\"},\"y\":{\"field\":\"y\"}},\"id\":\"1266\",\"type\":\"Scatter\"},{\"attributes\":{},\"id\":\"1298\",\"type\":\"UnionRenderers\"},{\"attributes\":{\"formatter\":{\"id\":\"1295\",\"type\":\"BasicTickFormatter\"},\"plot\":{\"id\":\"1231\",\"subtype\":\"Figure\",\"type\":\"Plot\"},\"ticker\":{\"id\":\"1246\",\"type\":\"BasicTicker\"}},\"id\":\"1245\",\"type\":\"LinearAxis\"},{\"attributes\":{\"fill_alpha\":{\"value\":0.1},\"fill_color\":{\"value\":\"#1f77b4\"},\"line_alpha\":{\"value\":0.1},\"line_color\":{\"value\":\"#1f77b4\"},\"size\":{\"units\":\"screen\",\"value\":10},\"x\":{\"field\":\"x\"},\"y\":{\"field\":\"y\"}},\"id\":\"1267\",\"type\":\"Scatter\"},{\"attributes\":{\"data_source\":{\"id\":\"1230\",\"type\":\"ColumnDataSource\"},\"glyph\":{\"id\":\"1266\",\"type\":\"Scatter\"},\"hover_glyph\":null,\"muted_glyph\":null,\"nonselection_glyph\":{\"id\":\"1267\",\"type\":\"Scatter\"},\"selection_glyph\":null,\"view\":{\"id\":\"1269\",\"type\":\"CDSView\"}},\"id\":\"1268\",\"type\":\"GlyphRenderer\"},{\"attributes\":{},\"id\":\"1253\",\"type\":\"SaveTool\"},{\"attributes\":{},\"id\":\"1241\",\"type\":\"BasicTicker\"},{\"attributes\":{},\"id\":\"1236\",\"type\":\"LinearScale\"},{\"attributes\":{\"active_drag\":\"auto\",\"active_inspect\":\"auto\",\"active_multi\":null,\"active_scroll\":{\"id\":\"1251\",\"type\":\"WheelZoomTool\"},\"active_tap\":\"auto\",\"tools\":[{\"id\":\"1250\",\"type\":\"PanTool\"},{\"id\":\"1251\",\"type\":\"WheelZoomTool\"},{\"id\":\"1252\",\"type\":\"BoxZoomTool\"},{\"id\":\"1253\",\"type\":\"SaveTool\"},{\"id\":\"1254\",\"type\":\"ResetTool\"},{\"id\":\"1255\",\"type\":\"HelpTool\"},{\"id\":\"1270\",\"type\":\"HoverTool\"}]},\"id\":\"1256\",\"type\":\"Toolbar\"},{\"attributes\":{},\"id\":\"1250\",\"type\":\"PanTool\"},{\"attributes\":{\"callback\":null},\"id\":\"1232\",\"type\":\"DataRange1d\"},{\"attributes\":{},\"id\":\"1238\",\"type\":\"LinearScale\"},{\"attributes\":{},\"id\":\"1246\",\"type\":\"BasicTicker\"},{\"attributes\":{\"overlay\":{\"id\":\"1258\",\"type\":\"BoxAnnotation\"}},\"id\":\"1252\",\"type\":\"BoxZoomTool\"},{\"attributes\":{},\"id\":\"1295\",\"type\":\"BasicTickFormatter\"},{\"attributes\":{\"dimension\":1,\"plot\":{\"id\":\"1231\",\"subtype\":\"Figure\",\"type\":\"Plot\"},\"ticker\":{\"id\":\"1246\",\"type\":\"BasicTicker\"}},\"id\":\"1249\",\"type\":\"Grid\"},{\"attributes\":{\"callback\":null,\"tooltips\":[[\"token\",\"@token\"]]},\"id\":\"1270\",\"type\":\"HoverTool\"},{\"attributes\":{},\"id\":\"1251\",\"type\":\"WheelZoomTool\"},{\"attributes\":{},\"id\":\"1293\",\"type\":\"BasicTickFormatter\"},{\"attributes\":{\"callback\":null,\"data\":{\"color\":[\"blue\",\"blue\",\"blue\",\"blue\",\"blue\",\"blue\",\"blue\",\"blue\",\"blue\",\"blue\",\"blue\",\"blue\",\"blue\",\"blue\",\"blue\",\"blue\",\"blue\",\"blue\",\"blue\",\"blue\",\"blue\",\"blue\",\"blue\",\"blue\",\"blue\",\"blue\",\"blue\",\"blue\",\"blue\",\"blue\",\"blue\",\"blue\",\"blue\",\"blue\",\"blue\",\"blue\",\"blue\",\"blue\",\"blue\",\"blue\",\"blue\",\"blue\",\"blue\",\"blue\",\"blue\",\"blue\",\"blue\",\"blue\",\"blue\",\"blue\",\"blue\",\"blue\",\"blue\",\"blue\",\"blue\",\"blue\",\"blue\",\"blue\",\"blue\",\"blue\",\"blue\",\"blue\",\"blue\",\"blue\",\"blue\",\"blue\",\"blue\",\"blue\",\"blue\",\"blue\",\"blue\",\"blue\",\"blue\",\"blue\",\"blue\",\"blue\",\"blue\",\"blue\",\"blue\",\"blue\",\"blue\",\"blue\",\"blue\",\"blue\",\"blue\",\"blue\",\"blue\",\"blue\",\"blue\",\"blue\",\"blue\",\"blue\",\"blue\",\"blue\",\"blue\",\"blue\",\"blue\",\"blue\",\"blue\",\"blue\",\"blue\",\"blue\",\"blue\",\"blue\",\"blue\",\"blue\",\"blue\",\"blue\",\"blue\",\"blue\",\"blue\",\"blue\",\"blue\",\"blue\",\"blue\",\"blue\",\"blue\",\"blue\",\"blue\",\"blue\",\"blue\",\"blue\",\"blue\",\"blue\",\"blue\",\"blue\",\"blue\",\"blue\",\"blue\",\"blue\",\"blue\",\"blue\",\"blue\",\"blue\",\"blue\",\"blue\",\"blue\",\"blue\",\"blue\",\"blue\",\"blue\",\"blue\",\"blue\",\"blue\",\"blue\",\"blue\",\"blue\",\"blue\",\"blue\",\"blue\",\"blue\",\"blue\",\"blue\",\"blue\",\"blue\",\"blue\",\"blue\",\"blue\",\"blue\",\"blue\",\"blue\",\"blue\",\"blue\",\"blue\",\"blue\",\"blue\",\"blue\",\"blue\",\"blue\",\"blue\",\"blue\",\"blue\",\"blue\",\"blue\",\"blue\",\"blue\",\"blue\",\"blue\",\"blue\",\"blue\",\"blue\",\"blue\",\"blue\",\"blue\",\"blue\",\"blue\",\"blue\",\"blue\",\"blue\",\"blue\",\"blue\",\"blue\",\"blue\",\"blue\",\"blue\",\"blue\",\"blue\",\"blue\",\"blue\",\"blue\",\"blue\",\"blue\",\"blue\",\"blue\",\"blue\",\"blue\",\"blue\",\"blue\",\"blue\",\"blue\",\"blue\",\"blue\",\"blue\",\"blue\",\"blue\",\"blue\",\"blue\",\"blue\",\"blue\",\"blue\",\"blue\",\"blue\",\"blue\",\"blue\",\"blue\",\"blue\",\"blue\",\"blue\",\"blue\",\"blue\",\"blue\",\"blue\",\"blue\",\"blue\",\"blue\",\"blue\",\"blue\",\"blue\",\"blue\",\"blue\",\"blue\",\"blue\",\"blue\",\"blue\",\"blue\",\"blue\",\"blue\",\"blue\",\"blue\",\"blue\",\"blue\",\"blue\",\"blue\",\"blue\",\"blue\",\"blue\",\"blue\",\"blue\",\"blue\",\"blue\",\"blue\",\"blue\",\"blue\",\"blue\",\"blue\",\"blue\",\"blue\",\"blue\",\"blue\",\"blue\",\"blue\",\"blue\",\"blue\",\"blue\",\"blue\",\"blue\",\"blue\",\"blue\",\"blue\",\"blue\",\"blue\",\"blue\",\"blue\",\"blue\",\"blue\",\"blue\",\"blue\",\"blue\",\"blue\",\"blue\",\"blue\",\"blue\",\"blue\",\"blue\",\"blue\",\"blue\",\"blue\",\"blue\",\"blue\",\"blue\",\"blue\",\"blue\",\"blue\",\"blue\",\"blue\",\"blue\",\"blue\",\"blue\",\"blue\",\"blue\",\"blue\",\"blue\",\"blue\",\"blue\",\"blue\",\"blue\",\"blue\",\"blue\",\"blue\",\"blue\",\"blue\",\"blue\",\"blue\",\"blue\",\"blue\",\"blue\",\"blue\",\"blue\",\"blue\",\"blue\",\"blue\",\"blue\",\"blue\",\"blue\",\"blue\",\"blue\",\"blue\",\"blue\",\"blue\",\"blue\",\"blue\",\"blue\",\"blue\",\"blue\",\"blue\",\"blue\",\"blue\",\"blue\",\"blue\",\"blue\",\"blue\",\"blue\",\"blue\",\"blue\",\"blue\",\"blue\",\"blue\",\"blue\",\"blue\",\"blue\",\"blue\",\"blue\",\"blue\",\"blue\",\"blue\",\"blue\",\"blue\",\"blue\",\"blue\",\"blue\",\"blue\",\"blue\",\"blue\",\"blue\",\"blue\",\"blue\",\"blue\",\"blue\",\"blue\",\"blue\",\"blue\",\"blue\",\"blue\",\"blue\",\"blue\",\"blue\",\"blue\",\"blue\",\"blue\",\"blue\",\"blue\",\"blue\",\"blue\",\"blue\",\"blue\",\"blue\",\"blue\",\"blue\",\"blue\",\"blue\",\"blue\",\"blue\",\"blue\",\"blue\",\"blue\",\"blue\",\"blue\",\"blue\",\"blue\",\"blue\",\"blue\",\"blue\",\"blue\",\"blue\",\"blue\",\"blue\",\"blue\",\"blue\",\"blue\",\"blue\",\"blue\",\"blue\",\"blue\",\"blue\",\"blue\",\"blue\",\"blue\",\"blue\",\"blue\",\"blue\",\"blue\",\"blue\",\"blue\",\"blue\",\"blue\",\"blue\",\"blue\",\"blue\",\"blue\",\"blue\",\"blue\",\"blue\",\"blue\",\"blue\",\"blue\",\"blue\",\"blue\",\"blue\",\"blue\",\"blue\",\"blue\",\"blue\",\"blue\",\"blue\",\"blue\",\"blue\",\"blue\",\"blue\",\"blue\",\"blue\",\"blue\",\"blue\",\"blue\",\"blue\",\"blue\",\"blue\",\"blue\",\"blue\",\"blue\",\"blue\",\"blue\",\"blue\",\"blue\",\"blue\",\"blue\",\"blue\",\"blue\",\"blue\",\"blue\",\"blue\",\"blue\",\"blue\",\"blue\",\"blue\",\"blue\",\"blue\",\"blue\",\"blue\",\"blue\",\"blue\",\"blue\",\"blue\",\"blue\",\"blue\",\"blue\",\"blue\",\"blue\",\"blue\",\"blue\",\"blue\",\"blue\",\"blue\",\"blue\",\"blue\",\"blue\",\"blue\",\"blue\",\"blue\",\"blue\",\"blue\",\"blue\",\"blue\",\"blue\",\"blue\",\"blue\",\"blue\",\"blue\",\"blue\",\"blue\",\"blue\",\"blue\",\"blue\",\"blue\",\"blue\",\"blue\",\"blue\",\"blue\",\"blue\",\"blue\",\"blue\",\"blue\",\"blue\",\"blue\",\"blue\",\"blue\",\"blue\",\"blue\",\"blue\",\"blue\",\"blue\",\"blue\",\"blue\",\"blue\",\"blue\",\"blue\",\"blue\",\"blue\",\"blue\",\"blue\",\"blue\",\"blue\",\"blue\",\"blue\",\"blue\",\"blue\",\"blue\",\"blue\",\"blue\",\"blue\",\"blue\",\"blue\",\"blue\",\"blue\",\"blue\",\"blue\",\"blue\",\"blue\",\"blue\",\"blue\",\"blue\",\"blue\",\"blue\",\"blue\",\"blue\",\"blue\",\"blue\",\"blue\",\"blue\",\"blue\",\"blue\",\"blue\",\"blue\",\"blue\",\"blue\",\"blue\",\"blue\",\"blue\",\"blue\",\"blue\",\"blue\",\"blue\",\"blue\",\"blue\",\"blue\",\"blue\",\"blue\",\"blue\",\"blue\",\"blue\",\"blue\",\"blue\",\"blue\",\"blue\",\"blue\",\"blue\",\"blue\",\"blue\",\"blue\",\"blue\",\"blue\",\"blue\",\"blue\",\"blue\",\"blue\",\"blue\",\"blue\",\"blue\",\"blue\",\"blue\",\"blue\",\"blue\",\"blue\",\"blue\",\"blue\",\"blue\",\"blue\",\"blue\",\"blue\",\"blue\",\"blue\",\"blue\",\"blue\",\"blue\",\"blue\",\"blue\",\"blue\",\"blue\",\"blue\",\"blue\",\"blue\",\"blue\",\"blue\",\"blue\",\"blue\",\"blue\",\"blue\",\"blue\",\"blue\",\"blue\",\"blue\",\"blue\",\"blue\",\"blue\",\"blue\",\"blue\",\"blue\",\"blue\",\"blue\",\"blue\",\"blue\",\"blue\",\"blue\",\"blue\",\"blue\",\"blue\",\"blue\",\"blue\",\"blue\",\"blue\",\"blue\",\"blue\",\"blue\",\"blue\",\"blue\",\"blue\",\"blue\",\"blue\",\"blue\",\"blue\",\"blue\",\"blue\",\"blue\",\"blue\",\"blue\",\"blue\",\"blue\",\"blue\",\"blue\",\"blue\",\"blue\",\"blue\",\"blue\",\"blue\",\"blue\",\"blue\",\"blue\",\"blue\",\"blue\",\"blue\",\"blue\",\"blue\",\"blue\",\"blue\",\"blue\",\"blue\",\"blue\",\"blue\",\"blue\",\"blue\",\"blue\",\"blue\",\"blue\",\"blue\",\"blue\",\"blue\",\"blue\",\"blue\",\"blue\",\"blue\",\"blue\",\"blue\",\"blue\",\"blue\",\"blue\",\"blue\",\"blue\",\"blue\",\"blue\",\"blue\",\"blue\",\"blue\",\"blue\",\"blue\",\"blue\",\"blue\",\"blue\",\"blue\",\"blue\",\"blue\",\"blue\",\"blue\",\"blue\",\"blue\",\"blue\",\"blue\",\"blue\",\"blue\",\"blue\",\"blue\",\"blue\",\"blue\",\"blue\",\"blue\",\"blue\",\"blue\",\"blue\",\"blue\",\"blue\",\"blue\",\"blue\",\"blue\",\"blue\",\"blue\",\"blue\",\"blue\",\"blue\",\"blue\",\"blue\",\"blue\",\"blue\",\"blue\",\"blue\",\"blue\",\"blue\",\"blue\",\"blue\",\"blue\",\"blue\",\"blue\",\"blue\",\"blue\",\"blue\",\"blue\",\"blue\",\"blue\",\"blue\",\"blue\",\"blue\",\"blue\",\"blue\",\"blue\",\"blue\",\"blue\",\"blue\",\"blue\",\"blue\",\"blue\",\"blue\",\"blue\",\"blue\",\"blue\",\"blue\",\"blue\",\"blue\",\"blue\",\"blue\",\"blue\",\"blue\",\"blue\",\"blue\",\"blue\",\"blue\",\"blue\",\"blue\",\"blue\",\"blue\",\"blue\",\"blue\",\"blue\",\"blue\",\"blue\",\"blue\",\"blue\",\"blue\",\"blue\",\"blue\",\"blue\",\"blue\",\"blue\",\"blue\",\"blue\",\"blue\",\"blue\",\"blue\",\"blue\",\"blue\",\"blue\",\"blue\",\"blue\",\"blue\",\"blue\",\"blue\",\"blue\",\"blue\",\"blue\",\"blue\",\"blue\",\"blue\",\"blue\",\"blue\",\"blue\",\"blue\",\"blue\",\"blue\",\"blue\",\"blue\",\"blue\",\"blue\",\"blue\",\"blue\",\"blue\",\"blue\",\"blue\",\"blue\",\"blue\",\"blue\",\"blue\",\"blue\",\"blue\",\"blue\",\"blue\",\"blue\",\"blue\",\"blue\",\"blue\",\"blue\",\"blue\",\"blue\",\"blue\",\"blue\",\"blue\",\"blue\",\"blue\",\"blue\",\"blue\",\"blue\",\"blue\",\"blue\",\"blue\",\"blue\",\"blue\",\"blue\",\"blue\",\"blue\",\"blue\",\"blue\",\"blue\",\"blue\",\"blue\",\"blue\",\"blue\",\"blue\",\"blue\",\"blue\",\"blue\",\"blue\",\"blue\",\"blue\",\"blue\",\"blue\",\"blue\",\"blue\",\"blue\",\"blue\",\"blue\",\"blue\",\"blue\",\"blue\",\"blue\",\"blue\",\"blue\",\"blue\",\"blue\",\"blue\",\"blue\",\"blue\",\"blue\",\"blue\",\"blue\",\"blue\",\"blue\",\"blue\",\"blue\",\"blue\",\"blue\",\"blue\",\"blue\",\"blue\",\"blue\",\"blue\",\"blue\",\"blue\",\"blue\",\"blue\",\"blue\",\"blue\",\"blue\",\"blue\",\"blue\",\"blue\",\"blue\",\"blue\",\"blue\",\"blue\",\"blue\",\"blue\",\"blue\",\"blue\",\"blue\",\"blue\",\"blue\",\"blue\",\"blue\",\"blue\",\"blue\",\"blue\",\"blue\",\"blue\",\"blue\",\"blue\",\"blue\",\"blue\",\"blue\",\"blue\",\"blue\",\"blue\",\"blue\",\"blue\",\"blue\",\"blue\",\"blue\",\"blue\",\"blue\",\"blue\",\"blue\",\"blue\",\"blue\",\"blue\",\"blue\",\"blue\",\"blue\",\"blue\",\"blue\",\"blue\",\"blue\",\"blue\",\"blue\",\"blue\",\"blue\",\"blue\"],\"token\":[\"<user>\",\".\",\":\",\"rt\",\",\",\"<repeat>\",\"<hashtag>\",\"<number>\",\"<url>\",\"!\",\"i\",\"a\",\"\\\"\",\"the\",\"?\",\"you\",\"to\",\"(\",\"<allcaps>\",\"<elong>\",\")\",\"me\",\"de\",\"<smile>\",\"\\uff01\",\"que\",\"and\",\"\\u3002\",\"-\",\"my\",\"no\",\"\\u3001\",\"is\",\"it\",\"\\u2026\",\"in\",\"n\",\"for\",\"/\",\"of\",\"la\",\"'s\",\"*\",\"do\",\"n't\",\"that\",\"on\",\"y\",\"'\",\"e\",\"o\",\"u\",\"en\",\"this\",\"el\",\"so\",\"be\",\"'m\",\"with\",\"just\",\">\",\"your\",\"^\",\"like\",\"have\",\"te\",\"at\",\"\\uff1f\",\"love\",\"se\",\"are\",\"<\",\"m\",\"r\",\"if\",\"all\",\"b\",\"\\u30fb\",\"not\",\"but\",\"we\",\"es\",\"ya\",\"&\",\"follow\",\"up\",\"what\",\"get\",\"lol\",\"un\",\"\\u2665\",\"lo\",\"when\",\"was\",\"\\u201c\",\"\\u201d\",\"one\",\"por\",\"si\",\"out\",\"_\",\"mi\",\"can\",\"<sadface>\",\"\\u0645\\u0646\",\"\\u2661\",\"\\u00b4\",\"he\",\"con\",\"they\",\"now\",\"go\",\"\\u060c\",\"para\",\"los\",\"know\",\"haha\",\"good\",\"tu\",\"back\",\"~\",\"about\",\"new\",\";\",\"as\",\"day\",\"how\",\"who\",\"will\",\"want\",\"people\",\"yo\",\"eu\",\"from\",\"di\",\"time\",\"<heart>\",\"s\",\"aku\",\"da\",\"'re\",\"<lolface>\",\"una\",\"got\",\"las\",\"more\",\"x\",\"she\",\"today\",\"\\uff08\",\">>\",\"k\",\"by\",\"or\",\"\\u0641\\u064a\",\"\\uff65\",\"too\",\"le\",\"\\u00e9\",\"|\",\"[\",\"\\uff09\",\"]\",\"see\",\"why\",\"yg\",\"ca\",\"como\",\"her\",\"\\u2014\",\"q\",\"need\",\"an\",\"na\",\"\\u7b11\",\"there\",\"\\u03c9\",\"happy\",\"im\",\"mas\",\"je\",\"life\",\"really\",\"make\",\"yang\",\"shit\",\"think\",\"t\",\"\\u2764\",\"n\\u00e3o\",\"never\",\"some\",\"\\uff5e\",\"oh\",\"\\u2605\",\"did\",\"would\",\"del\",\"`\",\"d\",\"please\",\"via\",\"much\",\"fuck\",\"al\",\"dia\",\"$\",\"\\u0648\",\"right\",\"best\",\"c\",\"going\",\"\\u0627\\u0644\\u0644\\u0647\",\"pero\",\"only\",\"has\",\"\\u266a\",\"'ll\",\"twitter\",\"=\",\"hahaha\",\"its\",\"nn\",\"\\uff40\",\"\\u00bf\",\"am\",\"say\",\"<neutralface>\",\"them\",\"here\",\"\\u0644\\u0627\",\"off\",\"still\",\"dan\",\"+\",\"night\",\"w\",\"ada\",\"someone\",\"even\",\"then\",\"\\u2606\",\"ni\",\"come\",\"com\",\"always\",\"man\",\"'ve\",\"been\",\"his\",\"itu\",\"\\u0639\\u0644\\u0649\",\"-_-\",\"\\u263a\",\"over\",\"um\",\"\\u0645\\u0627\",\"hate\",\"girl\",\"ai\",\"had\",\"pra\",\"todo\",\"mais\",\"feel\",\"let\",\"ini\",\"because\",\"\\uff9f\",\"thanks\",\"ah\",\"way\",\"ever\",\"look\",\"tweet\",\"followers\",\"should\",\"our\",\"xd\",\"aja\",\"esta\",\"school\",\"him\",\"ser\",\"take\",\"than\",\"video\",\"em\",\"last\",\"wanna\",\"does\",\"us\",\"miss\",\"l\",\"ga\",\"better\",\"well\",\"could\",\"\\u25bd\",\"%\",\"apa\",\"cuando\",\"team\",\"\\u2714\",\"@\",\"ok\",\"\\u061f\",\"\\u2022\",\"vida\",\"quiero\",\"les\",\"being\",\"real\",\"down\",\"kamu\",\"everyone\",\"gonna\",\"live\",\"tonight\",\"yes\",\"work\",\"ass\",\"retweet\",\"nada\",\"sama\",\"first\",\"<<\",\"photo\",\"tomorrow\",\"where\",\"god\",\"son\",\"ke\",\"ta\",\"f\",\"home\",\"lagi\",\"thank\",\"birthday\",\"\\u2588\",\"ha\",\"great\",\"lmao\",\"omg\",\"morning\",\"m\\u00e1s\",\"mau\",\"baby\",\"dont\",\"\\uff61\",\"their\",\"p\",\"things\",\"game\",\"pas\",\"bad\",\"year\",\"yeah\",\"su\",\"bitch\",\"\\u0432\",\"stop\",\"hoy\",\"something\",\"meu\",\"tak\",\"gak\",\"world\",\"amor\",\"h\",\"\\\\\",\"ver\",\"\\uff1b\",\"porque\",\"give\",\"these\",\"\\u0627\\u0644\\u0644\\u0647\\u0645\",\"were\",\"hay\",\"sleep\",\"gue\",\"every\",\"friends\",\"uma\",\"tell\",\"amo\",\"vou\",\"bien\",\"\\u00a1\",\"again\",\"\\uff3e\",\"\\uff0f\",\"done\",\"after\",\"todos\",\"girls\",\"guys\",\"getting\",\"big\",\"wait\",\"justin\",\"eh\",\"\\u2192\",\"kan\",\"kita\",\"jajaja\",\"wish\",\"said\",\"fucking\",\"show\",\"thing\",\"next\",\"voc\\u00ea\",\"nos\",\"little\",\"tengo\",\"keep\",\"person\",\"''\",\"\\u2200\",\"hope\",\"\\u0643\\u0644\",\"hey\",\"bisa\",\"free\",\"made\",\"foto\",\"va\",\"everything\",\"iya\",\"nigga\",\"eso\",\"et\",\"watch\",\"music\",\"week\",\"talk\",\"ne\",\"solo\",\"gente\",\"udah\",\"\\uff1a\",\"--\",\"\\uff3c\",\"mejor\",\"facebook\",\"ma\",\"v\",\"phone\",\"most\",\"same\",\"okay\",\"ik\",\"before\",\"minha\",\"days\",\"g\",\"ti\",\"damn\",\"nice\",\"voy\",\"vai\",\"call\",\"long\",\"tapi\",\"http\",\"sin\",\"nunca\",\"doing\",\"other\",\"find\",\"il\",\"sa\",\"sorry\",\"nya\",\"orang\",\"\\u00b0\",\"hard\",\"mean\",\"die\",\"\\u0627\\u0644\\u0644\\u064a\",\"tem\",\"soy\",\"este\",\"kalo\",\"s\\u00f3\",\"th\",\"win\",\"nothing\",\"into\",\"face\",\"cute\",\"'d\",\"gracias\",\"lah\",\"\\u0438\",\"any\",\"play\",\"\\u2190\",\"ko\",\"text\",\"\\u2323\",\"estoy\",\"tau\",\"ur\",\"buat\",\"#\",\"cause\",\"\\u044f\",\"put\",\"kau\",\"siempre\",\"juga\",\"casa\",\"\\u0623\\u0646\",\"help\",\"start\",\"feliz\",\"old\",\"ir\",\"very\",\"care\",\"bir\",\"makes\",\"song\",\"check\",\"watching\",\"ahora\",\"jadi\",\"os\",\"may\",\"friend\",\"beautiful\",\"heart\",\"ka\",\"vc\",\"mundo\",\"\\u043d\\u0430\",\"sure\",\"tan\",\"pretty\",\"aqui\",\"\\u043d\\u0435\",\"house\",\"\\u0631\\u062a\\u0648\\u064a\\u062a\",\"\\u064a\\u0627\",\"ja\",\"true\",\"muy\",\"away\",\"already\",\"actually\",\"believe\",\"try\",\"many\",\"ma\\u00f1ana\",\"mis\",\"lu\",\"those\",\"hot\",\"qu\\u00e9\",\"mal\",\"\\u0639\\u0646\",\"though\",\"ask\",\"amazing\",\"bed\",\"}\",\"two\",\"mom\",\"d\\u00eda\",\"ve\",\"dari\",\"gameinsight\",\"stay\",\"fun\",\"around\",\"van\",\"cont\",\"ready\",\"money\",\"bu\",\"funny\",\"cool\",\"hair\",\"\\u00e0\",\"tho\",\"{\",\"wo\",\"hi\",\"name\",\"tiene\",\"hahahaha\",\"pa\",\"algo\",\"gotta\",\"\\u0648\\u0644\\u0627\",\"boy\",\"another\",\"c'est\",\"hari\",\"jajajaja\",\"having\",\"cara\",\"jaja\",\"dm\",\"looking\",\"top\",\"android\",\"dah\",\"wow\",\"\\u2591\",\"eres\",\"ben\",\"must\",\"news\",\"met\",\"est\\u00e1\",\"nih\",\"family\",\"black\",\"thought\",\"nak\",\"super\",\"end\",\"hace\",\"remember\",\"ama\",\"party\",\"cant\",\"vamos\",\"anything\",\"anyone\",\"\\u0641\\u0648\\u0644\\u0648\",\"perfect\",\"guy\",\"vez\",\"christmas\",\"dos\",\"bueno\",\"nao\",\"years\",\"vote\",\"dormir\",\"bro\",\"else\",\"quien\",\"untuk\",\"jangan\",\"myself\",\"head\",\"mind\",\"gua\",\"talking\",\"while\",\"dat\",\"food\",\"\\u0434\",\"coming\",\"wkwk\",\"trying\",\"saya\",\"mucho\",\"without\",\"wrong\",\"\\u2019s\",\"baru\",\"__\",\"hehe\",\"hacer\",\"lot\",\"followed\",\"crazy\",\"hell\",\"feeling\",\"des\",\"kok\",\"j\",\"stats\",\"j'\",\"\\u0627\\u0646\",\"tweets\",\"non\",\"cosas\",\"era\",\"high\",\"niggas\",\"change\",\"movie\",\"xx\",\"mad\",\"sih\",\"sometimes\",\"deh\",\"allah\",\"through\",\"pour\",\"ela\",\"soon\",\"gone\",\"playing\",\"smile\",\"bukan\",\"tv\",\"fans\",\"hasta\",\"akan\",\"y'\",\"looks\",\"isso\",\"\\u270c\",\"tired\",\"boys\",\"might\",\"dong\",\"lg\",\"use\",\"maybe\",\"until\",\"menos\",\"own\",\"dengan\",\"eat\",\"ou\",\"weekend\",\"\\u02d8\",\"class\",\"ele\",\"harry\",\"iphone\",\"friday\",\"single\",\"ff\",\"awesome\",\"bout\",\"muito\",\"hoje\",\"\\u00ac\",\"dios\",\"such\",\"estar\",\"j\\u00e1\",\"quando\",\"esa\",\"making\",\"\\u2501\",\"times\",\"lmfao\",\"gw\",\"moment\",\"yet\",\"aw\",\"smh\",\"banget\",\"masih\",\"qui\",\"quem\",\"\\u2013\",\"leave\",\"du\",\"une\",\"guess\",\"hit\",\"\\u0441\",\"pm\",\"since\",\"pues\",\"est\",\"job\",\"\\uff89\",\"mana\",\"bom\",\"siapa\",\"suka\",\"bieber\",\"mention\",\"lebih\",\"favorite\",\"bitches\",\"forever\",\"\\u0644\\u064a\",\"final\",\"read\",\"alguien\",\"open\",\"yourself\",\"ese\",\"che\",\"sex\",\"yaa\",\"car\",\"direction\",\"tidak\",\"seu\",\"gets\",\"left\",\"re\",\"jam\",\"enough\",\"\\u0625\\u0644\\u0627\",\"once\",\"\\u2019\",\"part\",\"cada\",\"\\u5b9a\\u671f\",\"\\u0644\\u0643\",\"een\",\"seen\",\"kak\",\"as\\u00ed\",\"nem\",\"\\u0639\\u0645\\u0644\",\"white\",\"told\",\"says\",\"esto\",\"sad\",\"mo\",\"fue\",\"yah\",\"summer\",\"\\u0647\",\"\\u2b55\",\"\\u00bb\",\"thats\",\"\\u0645\\u0639\",\"posted\",\"wants\",\"agora\",\"together\",\"fan\",\"men\",\"hear\",\"full\",\"\\u2600\",\"sigo\",\"pq\",\"dulu\",\"plus\",\"foi\",\"tudo\",\"\\u0647\\u0648\",\"ill\",\"\\u3042\",\"thinking\",\"wtf\",\"pagi\",\"mama\",\"kalau\",\"hati\",\"sexy\",\"sayang\",\"baik\",\"semua\",\"hola\",\"went\",\"vos\",\"tanto\",\"finally\",\"fb\",\"sea\",\"stupid\",\"tus\",\"seriously\",\"hora\",\"min\",\"pic\",\"estas\",\"turn\",\"hours\",\"excited\",\"nah\",\"buy\",\"saying\",\"mah\",\"break\",\"needs\",\"ce\",\"room\",\"choice\",\"far\",\"dead\",\"quero\",\"saw\",\"kids\",\"lil\",\"whole\",\"puede\",\"fall\",\"sus\",\"lost\",\"asi\",\"word\",\"\\u2639\",\"also\",\"\\u0631\\u064a\\u062a\\u0648\\u064a\\u062a\",\"probably\",\"everybody\",\"tarde\",\"run\",\"sei\",\"follback\",\"forget\",\"sweet\",\"welcome\",\"selamat\",\"\\uff3f\",\"sur\",\"place\",\"gusta\",\"sabe\",\"androidgames\",\"tp\",\"tiempo\",\"\\u0628\\u0633\",\"sou\",\"tuh\",\"vs\",\"eyes\",\"\\u0627\\u0646\\u0627\",\"picture\",\"das\",\"meet\",\"anak\",\"persona\",\"essa\",\"bored\",\"following\",\"nadie\",\"nobody\",\"dice\",\"alone\",\"sick\",\"red\",\"city\",\"cinta\",\"\\u6708\",\"linda\",\"dream\",\"story\",\"km\",\"het\",\"waiting\",\"^_^\",\"mine\",\"\\u0447\\u0442\\u043e\",\"reason\",\"kk\",\"\\u0644\\u0648\",\"online\",\"fast\",\"udh\",\"wanted\",\"op\",\"others\",\"gay\",\"n\\u2019t\",\"used\",\"sem\",\"understand\",\"moi\",\"sm\",\"aint\",\"donde\",\"bem\",\"which\",\"ng\",\"followback\",\"punya\",\"late\",\"anda\",\"tidur\",\"puedo\",\"early\",\"nd\",\"personas\",\"banyak\",\"\\u2705\",\"\\u278a\",\"trust\",\"noche\",\"tl\",\"\\uff1e\",\"\\u00ab\",\"af\",\"move\",\"pro\",\"bring\",\"ku\",\"called\",\"relationship\",\"idk\",\"hurt\",\"st\",\"pernah\",\"pessoas\",\"hello\",\"uno\",\"unfollowers\",\"cry\"],\"x\":{\"__ndarray__\":\"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\",\"dtype\":\"float32\",\"shape\":[1000]},\"y\":{\"__ndarray__\":\"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\",\"dtype\":\"float32\",\"shape\":[1000]}},\"selected\":{\"id\":\"1297\",\"type\":\"Selection\"},\"selection_policy\":{\"id\":\"1298\",\"type\":\"UnionRenderers\"}},\"id\":\"1230\",\"type\":\"ColumnDataSource\"},{\"attributes\":{\"plot\":null,\"text\":\"\"},\"id\":\"1291\",\"type\":\"Title\"},{\"attributes\":{},\"id\":\"1254\",\"type\":\"ResetTool\"},{\"attributes\":{},\"id\":\"1255\",\"type\":\"HelpTool\"},{\"attributes\":{\"formatter\":{\"id\":\"1293\",\"type\":\"BasicTickFormatter\"},\"plot\":{\"id\":\"1231\",\"subtype\":\"Figure\",\"type\":\"Plot\"},\"ticker\":{\"id\":\"1241\",\"type\":\"BasicTicker\"}},\"id\":\"1240\",\"type\":\"LinearAxis\"},{\"attributes\":{\"source\":{\"id\":\"1230\",\"type\":\"ColumnDataSource\"}},\"id\":\"1269\",\"type\":\"CDSView\"},{\"attributes\":{\"bottom_units\":\"screen\",\"fill_alpha\":{\"value\":0.5},\"fill_color\":{\"value\":\"lightgrey\"},\"left_units\":\"screen\",\"level\":\"overlay\",\"line_alpha\":{\"value\":1.0},\"line_color\":{\"value\":\"black\"},\"line_dash\":[4,4],\"line_width\":{\"value\":2},\"plot\":null,\"render_mode\":\"css\",\"right_units\":\"screen\",\"top_units\":\"screen\"},\"id\":\"1258\",\"type\":\"BoxAnnotation\"},{\"attributes\":{\"plot\":{\"id\":\"1231\",\"subtype\":\"Figure\",\"type\":\"Plot\"},\"ticker\":{\"id\":\"1241\",\"type\":\"BasicTicker\"}},\"id\":\"1244\",\"type\":\"Grid\"},{\"attributes\":{},\"id\":\"1297\",\"type\":\"Selection\"},{\"attributes\":{\"callback\":null},\"id\":\"1234\",\"type\":\"DataRange1d\"}],\"root_ids\":[\"1231\"]},\"title\":\"Bokeh Application\",\"version\":\"1.0.4\"}};\n",
              "  var render_items = [{\"docid\":\"ccd9161f-5352-4c29-b4d5-c49effbbe96d\",\"roots\":{\"1231\":\"278269b4-5aff-4108-97f9-8deb1ae014fc\"}}];\n",
              "  root.Bokeh.embed.embed_items_notebook(docs_json, render_items);\n",
              "\n",
              "  }\n",
              "  if (root.Bokeh !== undefined) {\n",
              "    embed_document(root);\n",
              "  } else {\n",
              "    var attempts = 0;\n",
              "    var timer = setInterval(function(root) {\n",
              "      if (root.Bokeh !== undefined) {\n",
              "        embed_document(root);\n",
              "        clearInterval(timer);\n",
              "      }\n",
              "      attempts++;\n",
              "      if (attempts > 100) {\n",
              "        console.log(\"Bokeh: ERROR: Unable to run BokehJS code because BokehJS library is missing\");\n",
              "        clearInterval(timer);\n",
              "      }\n",
              "    }, 10, root)\n",
              "  }\n",
              "})(window);"
            ],
            "application/vnd.bokehjs_exec.v0+json": ""
          },
          "metadata": {
            "tags": [],
            "application/vnd.bokehjs_exec.v0+json": {
              "id": "1231"
            }
          }
        },
        {
          "output_type": "display_data",
          "data": {
            "text/html": [
              "\n",
              "    <div class=\"bk-root\">\n",
              "        <a href=\"https://bokeh.pydata.org\" target=\"_blank\" class=\"bk-logo bk-logo-small bk-logo-notebook\"></a>\n",
              "        <span id=\"1353\">Loading BokehJS ...</span>\n",
              "    </div>"
            ]
          },
          "metadata": {
            "tags": []
          }
        },
        {
          "output_type": "display_data",
          "data": {
            "application/javascript": [
              "\n",
              "(function(root) {\n",
              "  function now() {\n",
              "    return new Date();\n",
              "  }\n",
              "\n",
              "  var force = true;\n",
              "\n",
              "  if (typeof (root._bokeh_onload_callbacks) === \"undefined\" || force === true) {\n",
              "    root._bokeh_onload_callbacks = [];\n",
              "    root._bokeh_is_loading = undefined;\n",
              "  }\n",
              "\n",
              "  var JS_MIME_TYPE = 'application/javascript';\n",
              "  var HTML_MIME_TYPE = 'text/html';\n",
              "  var EXEC_MIME_TYPE = 'application/vnd.bokehjs_exec.v0+json';\n",
              "  var CLASS_NAME = 'output_bokeh rendered_html';\n",
              "\n",
              "  /**\n",
              "   * Render data to the DOM node\n",
              "   */\n",
              "  function render(props, node) {\n",
              "    var script = document.createElement(\"script\");\n",
              "    node.appendChild(script);\n",
              "  }\n",
              "\n",
              "  /**\n",
              "   * Handle when an output is cleared or removed\n",
              "   */\n",
              "  function handleClearOutput(event, handle) {\n",
              "    var cell = handle.cell;\n",
              "\n",
              "    var id = cell.output_area._bokeh_element_id;\n",
              "    var server_id = cell.output_area._bokeh_server_id;\n",
              "    // Clean up Bokeh references\n",
              "    if (id != null && id in Bokeh.index) {\n",
              "      Bokeh.index[id].model.document.clear();\n",
              "      delete Bokeh.index[id];\n",
              "    }\n",
              "\n",
              "    if (server_id !== undefined) {\n",
              "      // Clean up Bokeh references\n",
              "      var cmd = \"from bokeh.io.state import curstate; print(curstate().uuid_to_server['\" + server_id + \"'].get_sessions()[0].document.roots[0]._id)\";\n",
              "      cell.notebook.kernel.execute(cmd, {\n",
              "        iopub: {\n",
              "          output: function(msg) {\n",
              "            var id = msg.content.text.trim();\n",
              "            if (id in Bokeh.index) {\n",
              "              Bokeh.index[id].model.document.clear();\n",
              "              delete Bokeh.index[id];\n",
              "            }\n",
              "          }\n",
              "        }\n",
              "      });\n",
              "      // Destroy server and session\n",
              "      var cmd = \"import bokeh.io.notebook as ion; ion.destroy_server('\" + server_id + \"')\";\n",
              "      cell.notebook.kernel.execute(cmd);\n",
              "    }\n",
              "  }\n",
              "\n",
              "  /**\n",
              "   * Handle when a new output is added\n",
              "   */\n",
              "  function handleAddOutput(event, handle) {\n",
              "    var output_area = handle.output_area;\n",
              "    var output = handle.output;\n",
              "\n",
              "    // limit handleAddOutput to display_data with EXEC_MIME_TYPE content only\n",
              "    if ((output.output_type != \"display_data\") || (!output.data.hasOwnProperty(EXEC_MIME_TYPE))) {\n",
              "      return\n",
              "    }\n",
              "\n",
              "    var toinsert = output_area.element.find(\".\" + CLASS_NAME.split(' ')[0]);\n",
              "\n",
              "    if (output.metadata[EXEC_MIME_TYPE][\"id\"] !== undefined) {\n",
              "      toinsert[toinsert.length - 1].firstChild.textContent = output.data[JS_MIME_TYPE];\n",
              "      // store reference to embed id on output_area\n",
              "      output_area._bokeh_element_id = output.metadata[EXEC_MIME_TYPE][\"id\"];\n",
              "    }\n",
              "    if (output.metadata[EXEC_MIME_TYPE][\"server_id\"] !== undefined) {\n",
              "      var bk_div = document.createElement(\"div\");\n",
              "      bk_div.innerHTML = output.data[HTML_MIME_TYPE];\n",
              "      var script_attrs = bk_div.children[0].attributes;\n",
              "      for (var i = 0; i < script_attrs.length; i++) {\n",
              "        toinsert[toinsert.length - 1].firstChild.setAttribute(script_attrs[i].name, script_attrs[i].value);\n",
              "      }\n",
              "      // store reference to server id on output_area\n",
              "      output_area._bokeh_server_id = output.metadata[EXEC_MIME_TYPE][\"server_id\"];\n",
              "    }\n",
              "  }\n",
              "\n",
              "  function register_renderer(events, OutputArea) {\n",
              "\n",
              "    function append_mime(data, metadata, element) {\n",
              "      // create a DOM node to render to\n",
              "      var toinsert = this.create_output_subarea(\n",
              "        metadata,\n",
              "        CLASS_NAME,\n",
              "        EXEC_MIME_TYPE\n",
              "      );\n",
              "      this.keyboard_manager.register_events(toinsert);\n",
              "      // Render to node\n",
              "      var props = {data: data, metadata: metadata[EXEC_MIME_TYPE]};\n",
              "      render(props, toinsert[toinsert.length - 1]);\n",
              "      element.append(toinsert);\n",
              "      return toinsert\n",
              "    }\n",
              "\n",
              "    /* Handle when an output is cleared or removed */\n",
              "    events.on('clear_output.CodeCell', handleClearOutput);\n",
              "    events.on('delete.Cell', handleClearOutput);\n",
              "\n",
              "    /* Handle when a new output is added */\n",
              "    events.on('output_added.OutputArea', handleAddOutput);\n",
              "\n",
              "    /**\n",
              "     * Register the mime type and append_mime function with output_area\n",
              "     */\n",
              "    OutputArea.prototype.register_mime_type(EXEC_MIME_TYPE, append_mime, {\n",
              "      /* Is output safe? */\n",
              "      safe: true,\n",
              "      /* Index of renderer in `output_area.display_order` */\n",
              "      index: 0\n",
              "    });\n",
              "  }\n",
              "\n",
              "  // register the mime type if in Jupyter Notebook environment and previously unregistered\n",
              "  if (root.Jupyter !== undefined) {\n",
              "    var events = require('base/js/events');\n",
              "    var OutputArea = require('notebook/js/outputarea').OutputArea;\n",
              "\n",
              "    if (OutputArea.prototype.mime_types().indexOf(EXEC_MIME_TYPE) == -1) {\n",
              "      register_renderer(events, OutputArea);\n",
              "    }\n",
              "  }\n",
              "\n",
              "  \n",
              "  if (typeof (root._bokeh_timeout) === \"undefined\" || force === true) {\n",
              "    root._bokeh_timeout = Date.now() + 5000;\n",
              "    root._bokeh_failed_load = false;\n",
              "  }\n",
              "\n",
              "  var NB_LOAD_WARNING = {'data': {'text/html':\n",
              "     \"<div style='background-color: #fdd'>\\n\"+\n",
              "     \"<p>\\n\"+\n",
              "     \"BokehJS does not appear to have successfully loaded. If loading BokehJS from CDN, this \\n\"+\n",
              "     \"may be due to a slow or bad network connection. Possible fixes:\\n\"+\n",
              "     \"</p>\\n\"+\n",
              "     \"<ul>\\n\"+\n",
              "     \"<li>re-rerun `output_notebook()` to attempt to load from CDN again, or</li>\\n\"+\n",
              "     \"<li>use INLINE resources instead, as so:</li>\\n\"+\n",
              "     \"</ul>\\n\"+\n",
              "     \"<code>\\n\"+\n",
              "     \"from bokeh.resources import INLINE\\n\"+\n",
              "     \"output_notebook(resources=INLINE)\\n\"+\n",
              "     \"</code>\\n\"+\n",
              "     \"</div>\"}};\n",
              "\n",
              "  function display_loaded() {\n",
              "    var el = document.getElementById(\"1353\");\n",
              "    if (el != null) {\n",
              "      el.textContent = \"BokehJS is loading...\";\n",
              "    }\n",
              "    if (root.Bokeh !== undefined) {\n",
              "      if (el != null) {\n",
              "        el.textContent = \"BokehJS \" + root.Bokeh.version + \" successfully loaded.\";\n",
              "      }\n",
              "    } else if (Date.now() < root._bokeh_timeout) {\n",
              "      setTimeout(display_loaded, 100)\n",
              "    }\n",
              "  }\n",
              "\n",
              "\n",
              "  function run_callbacks() {\n",
              "    try {\n",
              "      root._bokeh_onload_callbacks.forEach(function(callback) { callback() });\n",
              "    }\n",
              "    finally {\n",
              "      delete root._bokeh_onload_callbacks\n",
              "    }\n",
              "    console.info(\"Bokeh: all callbacks have finished\");\n",
              "  }\n",
              "\n",
              "  function load_libs(js_urls, callback) {\n",
              "    root._bokeh_onload_callbacks.push(callback);\n",
              "    if (root._bokeh_is_loading > 0) {\n",
              "      console.log(\"Bokeh: BokehJS is being loaded, scheduling callback at\", now());\n",
              "      return null;\n",
              "    }\n",
              "    if (js_urls == null || js_urls.length === 0) {\n",
              "      run_callbacks();\n",
              "      return null;\n",
              "    }\n",
              "    console.log(\"Bokeh: BokehJS not loaded, scheduling load and callback at\", now());\n",
              "    root._bokeh_is_loading = js_urls.length;\n",
              "    for (var i = 0; i < js_urls.length; i++) {\n",
              "      var url = js_urls[i];\n",
              "      var s = document.createElement('script');\n",
              "      s.src = url;\n",
              "      s.async = false;\n",
              "      s.onreadystatechange = s.onload = function() {\n",
              "        root._bokeh_is_loading--;\n",
              "        if (root._bokeh_is_loading === 0) {\n",
              "          console.log(\"Bokeh: all BokehJS libraries loaded\");\n",
              "          run_callbacks()\n",
              "        }\n",
              "      };\n",
              "      s.onerror = function() {\n",
              "        console.warn(\"failed to load library \" + url);\n",
              "      };\n",
              "      console.log(\"Bokeh: injecting script tag for BokehJS library: \", url);\n",
              "      document.getElementsByTagName(\"head\")[0].appendChild(s);\n",
              "    }\n",
              "  };var element = document.getElementById(\"1353\");\n",
              "  if (element == null) {\n",
              "    console.log(\"Bokeh: ERROR: autoload.js configured with elementid '1353' but no matching script tag was found. \")\n",
              "    return false;\n",
              "  }\n",
              "\n",
              "  var js_urls = [\"https://cdn.pydata.org/bokeh/release/bokeh-1.0.4.min.js\", \"https://cdn.pydata.org/bokeh/release/bokeh-widgets-1.0.4.min.js\", \"https://cdn.pydata.org/bokeh/release/bokeh-tables-1.0.4.min.js\", \"https://cdn.pydata.org/bokeh/release/bokeh-gl-1.0.4.min.js\"];\n",
              "\n",
              "  var inline_js = [\n",
              "    function(Bokeh) {\n",
              "      Bokeh.set_log_level(\"info\");\n",
              "    },\n",
              "    \n",
              "    function(Bokeh) {\n",
              "      \n",
              "    },\n",
              "    function(Bokeh) {\n",
              "      console.log(\"Bokeh: injecting CSS: https://cdn.pydata.org/bokeh/release/bokeh-1.0.4.min.css\");\n",
              "      Bokeh.embed.inject_css(\"https://cdn.pydata.org/bokeh/release/bokeh-1.0.4.min.css\");\n",
              "      console.log(\"Bokeh: injecting CSS: https://cdn.pydata.org/bokeh/release/bokeh-widgets-1.0.4.min.css\");\n",
              "      Bokeh.embed.inject_css(\"https://cdn.pydata.org/bokeh/release/bokeh-widgets-1.0.4.min.css\");\n",
              "      console.log(\"Bokeh: injecting CSS: https://cdn.pydata.org/bokeh/release/bokeh-tables-1.0.4.min.css\");\n",
              "      Bokeh.embed.inject_css(\"https://cdn.pydata.org/bokeh/release/bokeh-tables-1.0.4.min.css\");\n",
              "    }\n",
              "  ];\n",
              "\n",
              "  function run_inline_js() {\n",
              "    \n",
              "    if ((root.Bokeh !== undefined) || (force === true)) {\n",
              "      for (var i = 0; i < inline_js.length; i++) {\n",
              "        inline_js[i].call(root, root.Bokeh);\n",
              "      }if (force === true) {\n",
              "        display_loaded();\n",
              "      }} else if (Date.now() < root._bokeh_timeout) {\n",
              "      setTimeout(run_inline_js, 100);\n",
              "    } else if (!root._bokeh_failed_load) {\n",
              "      console.log(\"Bokeh: BokehJS failed to load within specified timeout.\");\n",
              "      root._bokeh_failed_load = true;\n",
              "    } else if (force !== true) {\n",
              "      var cell = $(document.getElementById(\"1353\")).parents('.cell').data().cell;\n",
              "      cell.output_area.append_execute_result(NB_LOAD_WARNING)\n",
              "    }\n",
              "\n",
              "  }\n",
              "\n",
              "  if (root._bokeh_is_loading === 0) {\n",
              "    console.log(\"Bokeh: BokehJS loaded, going straight to plotting\");\n",
              "    run_inline_js();\n",
              "  } else {\n",
              "    load_libs(js_urls, function() {\n",
              "      console.log(\"Bokeh: BokehJS plotting callback run at\", now());\n",
              "      run_inline_js();\n",
              "    });\n",
              "  }\n",
              "}(window));"
            ],
            "application/vnd.bokehjs_load.v0+json": "\n(function(root) {\n  function now() {\n    return new Date();\n  }\n\n  var force = true;\n\n  if (typeof (root._bokeh_onload_callbacks) === \"undefined\" || force === true) {\n    root._bokeh_onload_callbacks = [];\n    root._bokeh_is_loading = undefined;\n  }\n\n  \n\n  \n  if (typeof (root._bokeh_timeout) === \"undefined\" || force === true) {\n    root._bokeh_timeout = Date.now() + 5000;\n    root._bokeh_failed_load = false;\n  }\n\n  var NB_LOAD_WARNING = {'data': {'text/html':\n     \"<div style='background-color: #fdd'>\\n\"+\n     \"<p>\\n\"+\n     \"BokehJS does not appear to have successfully loaded. If loading BokehJS from CDN, this \\n\"+\n     \"may be due to a slow or bad network connection. Possible fixes:\\n\"+\n     \"</p>\\n\"+\n     \"<ul>\\n\"+\n     \"<li>re-rerun `output_notebook()` to attempt to load from CDN again, or</li>\\n\"+\n     \"<li>use INLINE resources instead, as so:</li>\\n\"+\n     \"</ul>\\n\"+\n     \"<code>\\n\"+\n     \"from bokeh.resources import INLINE\\n\"+\n     \"output_notebook(resources=INLINE)\\n\"+\n     \"</code>\\n\"+\n     \"</div>\"}};\n\n  function display_loaded() {\n    var el = document.getElementById(\"1353\");\n    if (el != null) {\n      el.textContent = \"BokehJS is loading...\";\n    }\n    if (root.Bokeh !== undefined) {\n      if (el != null) {\n        el.textContent = \"BokehJS \" + root.Bokeh.version + \" successfully loaded.\";\n      }\n    } else if (Date.now() < root._bokeh_timeout) {\n      setTimeout(display_loaded, 100)\n    }\n  }\n\n\n  function run_callbacks() {\n    try {\n      root._bokeh_onload_callbacks.forEach(function(callback) { callback() });\n    }\n    finally {\n      delete root._bokeh_onload_callbacks\n    }\n    console.info(\"Bokeh: all callbacks have finished\");\n  }\n\n  function load_libs(js_urls, callback) {\n    root._bokeh_onload_callbacks.push(callback);\n    if (root._bokeh_is_loading > 0) {\n      console.log(\"Bokeh: BokehJS is being loaded, scheduling callback at\", now());\n      return null;\n    }\n    if (js_urls == null || js_urls.length === 0) {\n      run_callbacks();\n      return null;\n    }\n    console.log(\"Bokeh: BokehJS not loaded, scheduling load and callback at\", now());\n    root._bokeh_is_loading = js_urls.length;\n    for (var i = 0; i < js_urls.length; i++) {\n      var url = js_urls[i];\n      var s = document.createElement('script');\n      s.src = url;\n      s.async = false;\n      s.onreadystatechange = s.onload = function() {\n        root._bokeh_is_loading--;\n        if (root._bokeh_is_loading === 0) {\n          console.log(\"Bokeh: all BokehJS libraries loaded\");\n          run_callbacks()\n        }\n      };\n      s.onerror = function() {\n        console.warn(\"failed to load library \" + url);\n      };\n      console.log(\"Bokeh: injecting script tag for BokehJS library: \", url);\n      document.getElementsByTagName(\"head\")[0].appendChild(s);\n    }\n  };var element = document.getElementById(\"1353\");\n  if (element == null) {\n    console.log(\"Bokeh: ERROR: autoload.js configured with elementid '1353' but no matching script tag was found. \")\n    return false;\n  }\n\n  var js_urls = [\"https://cdn.pydata.org/bokeh/release/bokeh-1.0.4.min.js\", \"https://cdn.pydata.org/bokeh/release/bokeh-widgets-1.0.4.min.js\", \"https://cdn.pydata.org/bokeh/release/bokeh-tables-1.0.4.min.js\", \"https://cdn.pydata.org/bokeh/release/bokeh-gl-1.0.4.min.js\"];\n\n  var inline_js = [\n    function(Bokeh) {\n      Bokeh.set_log_level(\"info\");\n    },\n    \n    function(Bokeh) {\n      \n    },\n    function(Bokeh) {\n      console.log(\"Bokeh: injecting CSS: https://cdn.pydata.org/bokeh/release/bokeh-1.0.4.min.css\");\n      Bokeh.embed.inject_css(\"https://cdn.pydata.org/bokeh/release/bokeh-1.0.4.min.css\");\n      console.log(\"Bokeh: injecting CSS: https://cdn.pydata.org/bokeh/release/bokeh-widgets-1.0.4.min.css\");\n      Bokeh.embed.inject_css(\"https://cdn.pydata.org/bokeh/release/bokeh-widgets-1.0.4.min.css\");\n      console.log(\"Bokeh: injecting CSS: https://cdn.pydata.org/bokeh/release/bokeh-tables-1.0.4.min.css\");\n      Bokeh.embed.inject_css(\"https://cdn.pydata.org/bokeh/release/bokeh-tables-1.0.4.min.css\");\n    }\n  ];\n\n  function run_inline_js() {\n    \n    if ((root.Bokeh !== undefined) || (force === true)) {\n      for (var i = 0; i < inline_js.length; i++) {\n        inline_js[i].call(root, root.Bokeh);\n      }if (force === true) {\n        display_loaded();\n      }} else if (Date.now() < root._bokeh_timeout) {\n      setTimeout(run_inline_js, 100);\n    } else if (!root._bokeh_failed_load) {\n      console.log(\"Bokeh: BokehJS failed to load within specified timeout.\");\n      root._bokeh_failed_load = true;\n    } else if (force !== true) {\n      var cell = $(document.getElementById(\"1353\")).parents('.cell').data().cell;\n      cell.output_area.append_execute_result(NB_LOAD_WARNING)\n    }\n\n  }\n\n  if (root._bokeh_is_loading === 0) {\n    console.log(\"Bokeh: BokehJS loaded, going straight to plotting\");\n    run_inline_js();\n  } else {\n    load_libs(js_urls, function() {\n      console.log(\"Bokeh: BokehJS plotting callback run at\", now());\n      run_inline_js();\n    });\n  }\n}(window));"
          },
          "metadata": {
            "tags": []
          }
        }
      ]
    },
    {
      "cell_type": "code",
      "metadata": {
        "id": "lIHBcCTtOh3t",
        "colab_type": "code",
        "colab": {}
      },
      "source": [
        "%matplotlib inline"
      ],
      "execution_count": 0,
      "outputs": []
    },
    {
      "cell_type": "code",
      "metadata": {
        "id": "cPmaApkrN9Db",
        "colab_type": "code",
        "colab": {}
      },
      "source": [
        "from sklearn.manifold import TSNE\n",
        "\n",
        "# map word vectors onto 2d plane with TSNE. hint: use verbose=100 to see what it's doing.\n",
        "# normalize them as just lke with pca\n",
        "\n",
        "\n",
        "word_vectors_tsne = TSNE(n_components=2).fit_transform(word_vectors)\n",
        "word_vectors_tsne = (word_vectors_tsne - word_vectors_tsne.mean(axis = 0)) / word_vectors_tsne.std(axis = 0)"
      ],
      "execution_count": 0,
      "outputs": []
    },
    {
      "cell_type": "code",
      "metadata": {
        "scrolled": false,
        "id": "KxTlmPzlN9Dj",
        "colab_type": "code",
        "colab": {
          "base_uri": "https://localhost:8080/",
          "height": 34
        },
        "outputId": "b552dd62-7d5b-4f53-c141-195dc483fc09"
      },
      "source": [
        "draw_vectors(word_vectors_tsne[:, 0], word_vectors_tsne[:, 1], color='green', token=words)"
      ],
      "execution_count": 23,
      "outputs": [
        {
          "output_type": "display_data",
          "data": {
            "text/html": [
              "\n",
              "\n",
              "\n",
              "\n",
              "\n",
              "\n",
              "  <div class=\"bk-root\" id=\"ae7697b2-0e6b-48c1-a6d9-9a223c287dad\" data-root-id=\"1112\"></div>\n"
            ]
          },
          "metadata": {
            "tags": []
          }
        },
        {
          "output_type": "display_data",
          "data": {
            "application/javascript": [
              "(function(root) {\n",
              "  function embed_document(root) {\n",
              "    \n",
              "  var docs_json = {\"d79a92ef-013a-4f1e-b2d0-3f3dd29106a2\":{\"roots\":{\"references\":[{\"attributes\":{\"below\":[{\"id\":\"1121\",\"type\":\"LinearAxis\"}],\"left\":[{\"id\":\"1126\",\"type\":\"LinearAxis\"}],\"plot_height\":400,\"renderers\":[{\"id\":\"1121\",\"type\":\"LinearAxis\"},{\"id\":\"1125\",\"type\":\"Grid\"},{\"id\":\"1126\",\"type\":\"LinearAxis\"},{\"id\":\"1130\",\"type\":\"Grid\"},{\"id\":\"1139\",\"type\":\"BoxAnnotation\"},{\"id\":\"1149\",\"type\":\"GlyphRenderer\"}],\"title\":{\"id\":\"1162\",\"type\":\"Title\"},\"toolbar\":{\"id\":\"1137\",\"type\":\"Toolbar\"},\"x_range\":{\"id\":\"1113\",\"type\":\"DataRange1d\"},\"x_scale\":{\"id\":\"1117\",\"type\":\"LinearScale\"},\"y_range\":{\"id\":\"1115\",\"type\":\"DataRange1d\"},\"y_scale\":{\"id\":\"1119\",\"type\":\"LinearScale\"}},\"id\":\"1112\",\"subtype\":\"Figure\",\"type\":\"Plot\"},{\"attributes\":{\"callback\":null,\"tooltips\":[[\"token\",\"@token\"]]},\"id\":\"1151\",\"type\":\"HoverTool\"},{\"attributes\":{\"plot\":{\"id\":\"1112\",\"subtype\":\"Figure\",\"type\":\"Plot\"},\"ticker\":{\"id\":\"1122\",\"type\":\"BasicTicker\"}},\"id\":\"1125\",\"type\":\"Grid\"},{\"attributes\":{\"callback\":null},\"id\":\"1115\",\"type\":\"DataRange1d\"},{\"attributes\":{\"formatter\":{\"id\":\"1166\",\"type\":\"BasicTickFormatter\"},\"plot\":{\"id\":\"1112\",\"subtype\":\"Figure\",\"type\":\"Plot\"},\"ticker\":{\"id\":\"1127\",\"type\":\"BasicTicker\"}},\"id\":\"1126\",\"type\":\"LinearAxis\"},{\"attributes\":{},\"id\":\"1166\",\"type\":\"BasicTickFormatter\"},{\"attributes\":{},\"id\":\"1127\",\"type\":\"BasicTicker\"},{\"attributes\":{},\"id\":\"1169\",\"type\":\"Selection\"},{\"attributes\":{},\"id\":\"1170\",\"type\":\"UnionRenderers\"},{\"attributes\":{},\"id\":\"1164\",\"type\":\"BasicTickFormatter\"},{\"attributes\":{\"fill_alpha\":{\"value\":0.1},\"fill_color\":{\"value\":\"#1f77b4\"},\"line_alpha\":{\"value\":0.1},\"line_color\":{\"value\":\"#1f77b4\"},\"size\":{\"units\":\"screen\",\"value\":10},\"x\":{\"field\":\"x\"},\"y\":{\"field\":\"y\"}},\"id\":\"1148\",\"type\":\"Scatter\"},{\"attributes\":{\"active_drag\":\"auto\",\"active_inspect\":\"auto\",\"active_multi\":null,\"active_scroll\":{\"id\":\"1132\",\"type\":\"WheelZoomTool\"},\"active_tap\":\"auto\",\"tools\":[{\"id\":\"1131\",\"type\":\"PanTool\"},{\"id\":\"1132\",\"type\":\"WheelZoomTool\"},{\"id\":\"1133\",\"type\":\"BoxZoomTool\"},{\"id\":\"1134\",\"type\":\"SaveTool\"},{\"id\":\"1135\",\"type\":\"ResetTool\"},{\"id\":\"1136\",\"type\":\"HelpTool\"},{\"id\":\"1151\",\"type\":\"HoverTool\"}]},\"id\":\"1137\",\"type\":\"Toolbar\"},{\"attributes\":{},\"id\":\"1117\",\"type\":\"LinearScale\"},{\"attributes\":{},\"id\":\"1131\",\"type\":\"PanTool\"},{\"attributes\":{},\"id\":\"1119\",\"type\":\"LinearScale\"},{\"attributes\":{},\"id\":\"1132\",\"type\":\"WheelZoomTool\"},{\"attributes\":{\"dimension\":1,\"plot\":{\"id\":\"1112\",\"subtype\":\"Figure\",\"type\":\"Plot\"},\"ticker\":{\"id\":\"1127\",\"type\":\"BasicTicker\"}},\"id\":\"1130\",\"type\":\"Grid\"},{\"attributes\":{\"overlay\":{\"id\":\"1139\",\"type\":\"BoxAnnotation\"}},\"id\":\"1133\",\"type\":\"BoxZoomTool\"},{\"attributes\":{},\"id\":\"1134\",\"type\":\"SaveTool\"},{\"attributes\":{\"callback\":null,\"data\":{\"color\":[\"green\",\"green\",\"green\",\"green\",\"green\",\"green\",\"green\",\"green\",\"green\",\"green\",\"green\",\"green\",\"green\",\"green\",\"green\",\"green\",\"green\",\"green\",\"green\",\"green\",\"green\",\"green\",\"green\",\"green\",\"green\",\"green\",\"green\",\"green\",\"green\",\"green\",\"green\",\"green\",\"green\",\"green\",\"green\",\"green\",\"green\",\"green\",\"green\",\"green\",\"green\",\"green\",\"green\",\"green\",\"green\",\"green\",\"green\",\"green\",\"green\",\"green\",\"green\",\"green\",\"green\",\"green\",\"green\",\"green\",\"green\",\"green\",\"green\",\"green\",\"green\",\"green\",\"green\",\"green\",\"green\",\"green\",\"green\",\"green\",\"green\",\"green\",\"green\",\"green\",\"green\",\"green\",\"green\",\"green\",\"green\",\"green\",\"green\",\"green\",\"green\",\"green\",\"green\",\"green\",\"green\",\"green\",\"green\",\"green\",\"green\",\"green\",\"green\",\"green\",\"green\",\"green\",\"green\",\"green\",\"green\",\"green\",\"green\",\"green\",\"green\",\"green\",\"green\",\"green\",\"green\",\"green\",\"green\",\"green\",\"green\",\"green\",\"green\",\"green\",\"green\",\"green\",\"green\",\"green\",\"green\",\"green\",\"green\",\"green\",\"green\",\"green\",\"green\",\"green\",\"green\",\"green\",\"green\",\"green\",\"green\",\"green\",\"green\",\"green\",\"green\",\"green\",\"green\",\"green\",\"green\",\"green\",\"green\",\"green\",\"green\",\"green\",\"green\",\"green\",\"green\",\"green\",\"green\",\"green\",\"green\",\"green\",\"green\",\"green\",\"green\",\"green\",\"green\",\"green\",\"green\",\"green\",\"green\",\"green\",\"green\",\"green\",\"green\",\"green\",\"green\",\"green\",\"green\",\"green\",\"green\",\"green\",\"green\",\"green\",\"green\",\"green\",\"green\",\"green\",\"green\",\"green\",\"green\",\"green\",\"green\",\"green\",\"green\",\"green\",\"green\",\"green\",\"green\",\"green\",\"green\",\"green\",\"green\",\"green\",\"green\",\"green\",\"green\",\"green\",\"green\",\"green\",\"green\",\"green\",\"green\",\"green\",\"green\",\"green\",\"green\",\"green\",\"green\",\"green\",\"green\",\"green\",\"green\",\"green\",\"green\",\"green\",\"green\",\"green\",\"green\",\"green\",\"green\",\"green\",\"green\",\"green\",\"green\",\"green\",\"green\",\"green\",\"green\",\"green\",\"green\",\"green\",\"green\",\"green\",\"green\",\"green\",\"green\",\"green\",\"green\",\"green\",\"green\",\"green\",\"green\",\"green\",\"green\",\"green\",\"green\",\"green\",\"green\",\"green\",\"green\",\"green\",\"green\",\"green\",\"green\",\"green\",\"green\",\"green\",\"green\",\"green\",\"green\",\"green\",\"green\",\"green\",\"green\",\"green\",\"green\",\"green\",\"green\",\"green\",\"green\",\"green\",\"green\",\"green\",\"green\",\"green\",\"green\",\"green\",\"green\",\"green\",\"green\",\"green\",\"green\",\"green\",\"green\",\"green\",\"green\",\"green\",\"green\",\"green\",\"green\",\"green\",\"green\",\"green\",\"green\",\"green\",\"green\",\"green\",\"green\",\"green\",\"green\",\"green\",\"green\",\"green\",\"green\",\"green\",\"green\",\"green\",\"green\",\"green\",\"green\",\"green\",\"green\",\"green\",\"green\",\"green\",\"green\",\"green\",\"green\",\"green\",\"green\",\"green\",\"green\",\"green\",\"green\",\"green\",\"green\",\"green\",\"green\",\"green\",\"green\",\"green\",\"green\",\"green\",\"green\",\"green\",\"green\",\"green\",\"green\",\"green\",\"green\",\"green\",\"green\",\"green\",\"green\",\"green\",\"green\",\"green\",\"green\",\"green\",\"green\",\"green\",\"green\",\"green\",\"green\",\"green\",\"green\",\"green\",\"green\",\"green\",\"green\",\"green\",\"green\",\"green\",\"green\",\"green\",\"green\",\"green\",\"green\",\"green\",\"green\",\"green\",\"green\",\"green\",\"green\",\"green\",\"green\",\"green\",\"green\",\"green\",\"green\",\"green\",\"green\",\"green\",\"green\",\"green\",\"green\",\"green\",\"green\",\"green\",\"green\",\"green\",\"green\",\"green\",\"green\",\"green\",\"green\",\"green\",\"green\",\"green\",\"green\",\"green\",\"green\",\"green\",\"green\",\"green\",\"green\",\"green\",\"green\",\"green\",\"green\",\"green\",\"green\",\"green\",\"green\",\"green\",\"green\",\"green\",\"green\",\"green\",\"green\",\"green\",\"green\",\"green\",\"green\",\"green\",\"green\",\"green\",\"green\",\"green\",\"green\",\"green\",\"green\",\"green\",\"green\",\"green\",\"green\",\"green\",\"green\",\"green\",\"green\",\"green\",\"green\",\"green\",\"green\",\"green\",\"green\",\"green\",\"green\",\"green\",\"green\",\"green\",\"green\",\"green\",\"green\",\"green\",\"green\",\"green\",\"green\",\"green\",\"green\",\"green\",\"green\",\"green\",\"green\",\"green\",\"green\",\"green\",\"green\",\"green\",\"green\",\"green\",\"green\",\"green\",\"green\",\"green\",\"green\",\"green\",\"green\",\"green\",\"green\",\"green\",\"green\",\"green\",\"green\",\"green\",\"green\",\"green\",\"green\",\"green\",\"green\",\"green\",\"green\",\"green\",\"green\",\"green\",\"green\",\"green\",\"green\",\"green\",\"green\",\"green\",\"green\",\"green\",\"green\",\"green\",\"green\",\"green\",\"green\",\"green\",\"green\",\"green\",\"green\",\"green\",\"green\",\"green\",\"green\",\"green\",\"green\",\"green\",\"green\",\"green\",\"green\",\"green\",\"green\",\"green\",\"green\",\"green\",\"green\",\"green\",\"green\",\"green\",\"green\",\"green\",\"green\",\"green\",\"green\",\"green\",\"green\",\"green\",\"green\",\"green\",\"green\",\"green\",\"green\",\"green\",\"green\",\"green\",\"green\",\"green\",\"green\",\"green\",\"green\",\"green\",\"green\",\"green\",\"green\",\"green\",\"green\",\"green\",\"green\",\"green\",\"green\",\"green\",\"green\",\"green\",\"green\",\"green\",\"green\",\"green\",\"green\",\"green\",\"green\",\"green\",\"green\",\"green\",\"green\",\"green\",\"green\",\"green\",\"green\",\"green\",\"green\",\"green\",\"green\",\"green\",\"green\",\"green\",\"green\",\"green\",\"green\",\"green\",\"green\",\"green\",\"green\",\"green\",\"green\",\"green\",\"green\",\"green\",\"green\",\"green\",\"green\",\"green\",\"green\",\"green\",\"green\",\"green\",\"green\",\"green\",\"green\",\"green\",\"green\",\"green\",\"green\",\"green\",\"green\",\"green\",\"green\",\"green\",\"green\",\"green\",\"green\",\"green\",\"green\",\"green\",\"green\",\"green\",\"green\",\"green\",\"green\",\"green\",\"green\",\"green\",\"green\",\"green\",\"green\",\"green\",\"green\",\"green\",\"green\",\"green\",\"green\",\"green\",\"green\",\"green\",\"green\",\"green\",\"green\",\"green\",\"green\",\"green\",\"green\",\"green\",\"green\",\"green\",\"green\",\"green\",\"green\",\"green\",\"green\",\"green\",\"green\",\"green\",\"green\",\"green\",\"green\",\"green\",\"green\",\"green\",\"green\",\"green\",\"green\",\"green\",\"green\",\"green\",\"green\",\"green\",\"green\",\"green\",\"green\",\"green\",\"green\",\"green\",\"green\",\"green\",\"green\",\"green\",\"green\",\"green\",\"green\",\"green\",\"green\",\"green\",\"green\",\"green\",\"green\",\"green\",\"green\",\"green\",\"green\",\"green\",\"green\",\"green\",\"green\",\"green\",\"green\",\"green\",\"green\",\"green\",\"green\",\"green\",\"green\",\"green\",\"green\",\"green\",\"green\",\"green\",\"green\",\"green\",\"green\",\"green\",\"green\",\"green\",\"green\",\"green\",\"green\",\"green\",\"green\",\"green\",\"green\",\"green\",\"green\",\"green\",\"green\",\"green\",\"green\",\"green\",\"green\",\"green\",\"green\",\"green\",\"green\",\"green\",\"green\",\"green\",\"green\",\"green\",\"green\",\"green\",\"green\",\"green\",\"green\",\"green\",\"green\",\"green\",\"green\",\"green\",\"green\",\"green\",\"green\",\"green\",\"green\",\"green\",\"green\",\"green\",\"green\",\"green\",\"green\",\"green\",\"green\",\"green\",\"green\",\"green\",\"green\",\"green\",\"green\",\"green\",\"green\",\"green\",\"green\",\"green\",\"green\",\"green\",\"green\",\"green\",\"green\",\"green\",\"green\",\"green\",\"green\",\"green\",\"green\",\"green\",\"green\",\"green\",\"green\",\"green\",\"green\",\"green\",\"green\",\"green\",\"green\",\"green\",\"green\",\"green\",\"green\",\"green\",\"green\",\"green\",\"green\",\"green\",\"green\",\"green\",\"green\",\"green\",\"green\",\"green\",\"green\",\"green\",\"green\",\"green\",\"green\",\"green\",\"green\",\"green\",\"green\",\"green\",\"green\",\"green\",\"green\",\"green\",\"green\",\"green\",\"green\",\"green\",\"green\",\"green\",\"green\",\"green\",\"green\",\"green\",\"green\",\"green\",\"green\",\"green\",\"green\",\"green\",\"green\",\"green\",\"green\",\"green\",\"green\",\"green\",\"green\",\"green\",\"green\",\"green\",\"green\",\"green\",\"green\",\"green\",\"green\",\"green\",\"green\",\"green\",\"green\",\"green\",\"green\",\"green\",\"green\",\"green\",\"green\",\"green\",\"green\",\"green\",\"green\",\"green\",\"green\",\"green\",\"green\",\"green\",\"green\",\"green\",\"green\",\"green\",\"green\",\"green\",\"green\",\"green\",\"green\",\"green\",\"green\",\"green\",\"green\",\"green\",\"green\",\"green\",\"green\",\"green\",\"green\",\"green\",\"green\",\"green\",\"green\",\"green\",\"green\",\"green\",\"green\",\"green\",\"green\",\"green\",\"green\",\"green\",\"green\",\"green\",\"green\",\"green\",\"green\",\"green\",\"green\",\"green\",\"green\",\"green\",\"green\",\"green\",\"green\",\"green\",\"green\",\"green\",\"green\",\"green\",\"green\",\"green\",\"green\",\"green\",\"green\",\"green\",\"green\",\"green\",\"green\",\"green\",\"green\",\"green\",\"green\",\"green\",\"green\",\"green\",\"green\",\"green\",\"green\",\"green\",\"green\",\"green\",\"green\",\"green\",\"green\",\"green\",\"green\",\"green\",\"green\",\"green\",\"green\",\"green\",\"green\",\"green\",\"green\",\"green\",\"green\",\"green\",\"green\",\"green\",\"green\",\"green\",\"green\",\"green\",\"green\",\"green\",\"green\",\"green\",\"green\",\"green\",\"green\",\"green\",\"green\",\"green\",\"green\",\"green\",\"green\",\"green\",\"green\",\"green\",\"green\",\"green\",\"green\",\"green\",\"green\",\"green\",\"green\",\"green\",\"green\",\"green\"],\"token\":[\"<user>\",\".\",\":\",\"rt\",\",\",\"<repeat>\",\"<hashtag>\",\"<number>\",\"<url>\",\"!\",\"i\",\"a\",\"\\\"\",\"the\",\"?\",\"you\",\"to\",\"(\",\"<allcaps>\",\"<elong>\",\")\",\"me\",\"de\",\"<smile>\",\"\\uff01\",\"que\",\"and\",\"\\u3002\",\"-\",\"my\",\"no\",\"\\u3001\",\"is\",\"it\",\"\\u2026\",\"in\",\"n\",\"for\",\"/\",\"of\",\"la\",\"'s\",\"*\",\"do\",\"n't\",\"that\",\"on\",\"y\",\"'\",\"e\",\"o\",\"u\",\"en\",\"this\",\"el\",\"so\",\"be\",\"'m\",\"with\",\"just\",\">\",\"your\",\"^\",\"like\",\"have\",\"te\",\"at\",\"\\uff1f\",\"love\",\"se\",\"are\",\"<\",\"m\",\"r\",\"if\",\"all\",\"b\",\"\\u30fb\",\"not\",\"but\",\"we\",\"es\",\"ya\",\"&\",\"follow\",\"up\",\"what\",\"get\",\"lol\",\"un\",\"\\u2665\",\"lo\",\"when\",\"was\",\"\\u201c\",\"\\u201d\",\"one\",\"por\",\"si\",\"out\",\"_\",\"mi\",\"can\",\"<sadface>\",\"\\u0645\\u0646\",\"\\u2661\",\"\\u00b4\",\"he\",\"con\",\"they\",\"now\",\"go\",\"\\u060c\",\"para\",\"los\",\"know\",\"haha\",\"good\",\"tu\",\"back\",\"~\",\"about\",\"new\",\";\",\"as\",\"day\",\"how\",\"who\",\"will\",\"want\",\"people\",\"yo\",\"eu\",\"from\",\"di\",\"time\",\"<heart>\",\"s\",\"aku\",\"da\",\"'re\",\"<lolface>\",\"una\",\"got\",\"las\",\"more\",\"x\",\"she\",\"today\",\"\\uff08\",\">>\",\"k\",\"by\",\"or\",\"\\u0641\\u064a\",\"\\uff65\",\"too\",\"le\",\"\\u00e9\",\"|\",\"[\",\"\\uff09\",\"]\",\"see\",\"why\",\"yg\",\"ca\",\"como\",\"her\",\"\\u2014\",\"q\",\"need\",\"an\",\"na\",\"\\u7b11\",\"there\",\"\\u03c9\",\"happy\",\"im\",\"mas\",\"je\",\"life\",\"really\",\"make\",\"yang\",\"shit\",\"think\",\"t\",\"\\u2764\",\"n\\u00e3o\",\"never\",\"some\",\"\\uff5e\",\"oh\",\"\\u2605\",\"did\",\"would\",\"del\",\"`\",\"d\",\"please\",\"via\",\"much\",\"fuck\",\"al\",\"dia\",\"$\",\"\\u0648\",\"right\",\"best\",\"c\",\"going\",\"\\u0627\\u0644\\u0644\\u0647\",\"pero\",\"only\",\"has\",\"\\u266a\",\"'ll\",\"twitter\",\"=\",\"hahaha\",\"its\",\"nn\",\"\\uff40\",\"\\u00bf\",\"am\",\"say\",\"<neutralface>\",\"them\",\"here\",\"\\u0644\\u0627\",\"off\",\"still\",\"dan\",\"+\",\"night\",\"w\",\"ada\",\"someone\",\"even\",\"then\",\"\\u2606\",\"ni\",\"come\",\"com\",\"always\",\"man\",\"'ve\",\"been\",\"his\",\"itu\",\"\\u0639\\u0644\\u0649\",\"-_-\",\"\\u263a\",\"over\",\"um\",\"\\u0645\\u0627\",\"hate\",\"girl\",\"ai\",\"had\",\"pra\",\"todo\",\"mais\",\"feel\",\"let\",\"ini\",\"because\",\"\\uff9f\",\"thanks\",\"ah\",\"way\",\"ever\",\"look\",\"tweet\",\"followers\",\"should\",\"our\",\"xd\",\"aja\",\"esta\",\"school\",\"him\",\"ser\",\"take\",\"than\",\"video\",\"em\",\"last\",\"wanna\",\"does\",\"us\",\"miss\",\"l\",\"ga\",\"better\",\"well\",\"could\",\"\\u25bd\",\"%\",\"apa\",\"cuando\",\"team\",\"\\u2714\",\"@\",\"ok\",\"\\u061f\",\"\\u2022\",\"vida\",\"quiero\",\"les\",\"being\",\"real\",\"down\",\"kamu\",\"everyone\",\"gonna\",\"live\",\"tonight\",\"yes\",\"work\",\"ass\",\"retweet\",\"nada\",\"sama\",\"first\",\"<<\",\"photo\",\"tomorrow\",\"where\",\"god\",\"son\",\"ke\",\"ta\",\"f\",\"home\",\"lagi\",\"thank\",\"birthday\",\"\\u2588\",\"ha\",\"great\",\"lmao\",\"omg\",\"morning\",\"m\\u00e1s\",\"mau\",\"baby\",\"dont\",\"\\uff61\",\"their\",\"p\",\"things\",\"game\",\"pas\",\"bad\",\"year\",\"yeah\",\"su\",\"bitch\",\"\\u0432\",\"stop\",\"hoy\",\"something\",\"meu\",\"tak\",\"gak\",\"world\",\"amor\",\"h\",\"\\\\\",\"ver\",\"\\uff1b\",\"porque\",\"give\",\"these\",\"\\u0627\\u0644\\u0644\\u0647\\u0645\",\"were\",\"hay\",\"sleep\",\"gue\",\"every\",\"friends\",\"uma\",\"tell\",\"amo\",\"vou\",\"bien\",\"\\u00a1\",\"again\",\"\\uff3e\",\"\\uff0f\",\"done\",\"after\",\"todos\",\"girls\",\"guys\",\"getting\",\"big\",\"wait\",\"justin\",\"eh\",\"\\u2192\",\"kan\",\"kita\",\"jajaja\",\"wish\",\"said\",\"fucking\",\"show\",\"thing\",\"next\",\"voc\\u00ea\",\"nos\",\"little\",\"tengo\",\"keep\",\"person\",\"''\",\"\\u2200\",\"hope\",\"\\u0643\\u0644\",\"hey\",\"bisa\",\"free\",\"made\",\"foto\",\"va\",\"everything\",\"iya\",\"nigga\",\"eso\",\"et\",\"watch\",\"music\",\"week\",\"talk\",\"ne\",\"solo\",\"gente\",\"udah\",\"\\uff1a\",\"--\",\"\\uff3c\",\"mejor\",\"facebook\",\"ma\",\"v\",\"phone\",\"most\",\"same\",\"okay\",\"ik\",\"before\",\"minha\",\"days\",\"g\",\"ti\",\"damn\",\"nice\",\"voy\",\"vai\",\"call\",\"long\",\"tapi\",\"http\",\"sin\",\"nunca\",\"doing\",\"other\",\"find\",\"il\",\"sa\",\"sorry\",\"nya\",\"orang\",\"\\u00b0\",\"hard\",\"mean\",\"die\",\"\\u0627\\u0644\\u0644\\u064a\",\"tem\",\"soy\",\"este\",\"kalo\",\"s\\u00f3\",\"th\",\"win\",\"nothing\",\"into\",\"face\",\"cute\",\"'d\",\"gracias\",\"lah\",\"\\u0438\",\"any\",\"play\",\"\\u2190\",\"ko\",\"text\",\"\\u2323\",\"estoy\",\"tau\",\"ur\",\"buat\",\"#\",\"cause\",\"\\u044f\",\"put\",\"kau\",\"siempre\",\"juga\",\"casa\",\"\\u0623\\u0646\",\"help\",\"start\",\"feliz\",\"old\",\"ir\",\"very\",\"care\",\"bir\",\"makes\",\"song\",\"check\",\"watching\",\"ahora\",\"jadi\",\"os\",\"may\",\"friend\",\"beautiful\",\"heart\",\"ka\",\"vc\",\"mundo\",\"\\u043d\\u0430\",\"sure\",\"tan\",\"pretty\",\"aqui\",\"\\u043d\\u0435\",\"house\",\"\\u0631\\u062a\\u0648\\u064a\\u062a\",\"\\u064a\\u0627\",\"ja\",\"true\",\"muy\",\"away\",\"already\",\"actually\",\"believe\",\"try\",\"many\",\"ma\\u00f1ana\",\"mis\",\"lu\",\"those\",\"hot\",\"qu\\u00e9\",\"mal\",\"\\u0639\\u0646\",\"though\",\"ask\",\"amazing\",\"bed\",\"}\",\"two\",\"mom\",\"d\\u00eda\",\"ve\",\"dari\",\"gameinsight\",\"stay\",\"fun\",\"around\",\"van\",\"cont\",\"ready\",\"money\",\"bu\",\"funny\",\"cool\",\"hair\",\"\\u00e0\",\"tho\",\"{\",\"wo\",\"hi\",\"name\",\"tiene\",\"hahahaha\",\"pa\",\"algo\",\"gotta\",\"\\u0648\\u0644\\u0627\",\"boy\",\"another\",\"c'est\",\"hari\",\"jajajaja\",\"having\",\"cara\",\"jaja\",\"dm\",\"looking\",\"top\",\"android\",\"dah\",\"wow\",\"\\u2591\",\"eres\",\"ben\",\"must\",\"news\",\"met\",\"est\\u00e1\",\"nih\",\"family\",\"black\",\"thought\",\"nak\",\"super\",\"end\",\"hace\",\"remember\",\"ama\",\"party\",\"cant\",\"vamos\",\"anything\",\"anyone\",\"\\u0641\\u0648\\u0644\\u0648\",\"perfect\",\"guy\",\"vez\",\"christmas\",\"dos\",\"bueno\",\"nao\",\"years\",\"vote\",\"dormir\",\"bro\",\"else\",\"quien\",\"untuk\",\"jangan\",\"myself\",\"head\",\"mind\",\"gua\",\"talking\",\"while\",\"dat\",\"food\",\"\\u0434\",\"coming\",\"wkwk\",\"trying\",\"saya\",\"mucho\",\"without\",\"wrong\",\"\\u2019s\",\"baru\",\"__\",\"hehe\",\"hacer\",\"lot\",\"followed\",\"crazy\",\"hell\",\"feeling\",\"des\",\"kok\",\"j\",\"stats\",\"j'\",\"\\u0627\\u0646\",\"tweets\",\"non\",\"cosas\",\"era\",\"high\",\"niggas\",\"change\",\"movie\",\"xx\",\"mad\",\"sih\",\"sometimes\",\"deh\",\"allah\",\"through\",\"pour\",\"ela\",\"soon\",\"gone\",\"playing\",\"smile\",\"bukan\",\"tv\",\"fans\",\"hasta\",\"akan\",\"y'\",\"looks\",\"isso\",\"\\u270c\",\"tired\",\"boys\",\"might\",\"dong\",\"lg\",\"use\",\"maybe\",\"until\",\"menos\",\"own\",\"dengan\",\"eat\",\"ou\",\"weekend\",\"\\u02d8\",\"class\",\"ele\",\"harry\",\"iphone\",\"friday\",\"single\",\"ff\",\"awesome\",\"bout\",\"muito\",\"hoje\",\"\\u00ac\",\"dios\",\"such\",\"estar\",\"j\\u00e1\",\"quando\",\"esa\",\"making\",\"\\u2501\",\"times\",\"lmfao\",\"gw\",\"moment\",\"yet\",\"aw\",\"smh\",\"banget\",\"masih\",\"qui\",\"quem\",\"\\u2013\",\"leave\",\"du\",\"une\",\"guess\",\"hit\",\"\\u0441\",\"pm\",\"since\",\"pues\",\"est\",\"job\",\"\\uff89\",\"mana\",\"bom\",\"siapa\",\"suka\",\"bieber\",\"mention\",\"lebih\",\"favorite\",\"bitches\",\"forever\",\"\\u0644\\u064a\",\"final\",\"read\",\"alguien\",\"open\",\"yourself\",\"ese\",\"che\",\"sex\",\"yaa\",\"car\",\"direction\",\"tidak\",\"seu\",\"gets\",\"left\",\"re\",\"jam\",\"enough\",\"\\u0625\\u0644\\u0627\",\"once\",\"\\u2019\",\"part\",\"cada\",\"\\u5b9a\\u671f\",\"\\u0644\\u0643\",\"een\",\"seen\",\"kak\",\"as\\u00ed\",\"nem\",\"\\u0639\\u0645\\u0644\",\"white\",\"told\",\"says\",\"esto\",\"sad\",\"mo\",\"fue\",\"yah\",\"summer\",\"\\u0647\",\"\\u2b55\",\"\\u00bb\",\"thats\",\"\\u0645\\u0639\",\"posted\",\"wants\",\"agora\",\"together\",\"fan\",\"men\",\"hear\",\"full\",\"\\u2600\",\"sigo\",\"pq\",\"dulu\",\"plus\",\"foi\",\"tudo\",\"\\u0647\\u0648\",\"ill\",\"\\u3042\",\"thinking\",\"wtf\",\"pagi\",\"mama\",\"kalau\",\"hati\",\"sexy\",\"sayang\",\"baik\",\"semua\",\"hola\",\"went\",\"vos\",\"tanto\",\"finally\",\"fb\",\"sea\",\"stupid\",\"tus\",\"seriously\",\"hora\",\"min\",\"pic\",\"estas\",\"turn\",\"hours\",\"excited\",\"nah\",\"buy\",\"saying\",\"mah\",\"break\",\"needs\",\"ce\",\"room\",\"choice\",\"far\",\"dead\",\"quero\",\"saw\",\"kids\",\"lil\",\"whole\",\"puede\",\"fall\",\"sus\",\"lost\",\"asi\",\"word\",\"\\u2639\",\"also\",\"\\u0631\\u064a\\u062a\\u0648\\u064a\\u062a\",\"probably\",\"everybody\",\"tarde\",\"run\",\"sei\",\"follback\",\"forget\",\"sweet\",\"welcome\",\"selamat\",\"\\uff3f\",\"sur\",\"place\",\"gusta\",\"sabe\",\"androidgames\",\"tp\",\"tiempo\",\"\\u0628\\u0633\",\"sou\",\"tuh\",\"vs\",\"eyes\",\"\\u0627\\u0646\\u0627\",\"picture\",\"das\",\"meet\",\"anak\",\"persona\",\"essa\",\"bored\",\"following\",\"nadie\",\"nobody\",\"dice\",\"alone\",\"sick\",\"red\",\"city\",\"cinta\",\"\\u6708\",\"linda\",\"dream\",\"story\",\"km\",\"het\",\"waiting\",\"^_^\",\"mine\",\"\\u0447\\u0442\\u043e\",\"reason\",\"kk\",\"\\u0644\\u0648\",\"online\",\"fast\",\"udh\",\"wanted\",\"op\",\"others\",\"gay\",\"n\\u2019t\",\"used\",\"sem\",\"understand\",\"moi\",\"sm\",\"aint\",\"donde\",\"bem\",\"which\",\"ng\",\"followback\",\"punya\",\"late\",\"anda\",\"tidur\",\"puedo\",\"early\",\"nd\",\"personas\",\"banyak\",\"\\u2705\",\"\\u278a\",\"trust\",\"noche\",\"tl\",\"\\uff1e\",\"\\u00ab\",\"af\",\"move\",\"pro\",\"bring\",\"ku\",\"called\",\"relationship\",\"idk\",\"hurt\",\"st\",\"pernah\",\"pessoas\",\"hello\",\"uno\",\"unfollowers\",\"cry\"],\"x\":{\"__ndarray__\":\"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\",\"dtype\":\"float32\",\"shape\":[1000]},\"y\":{\"__ndarray__\":\"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\",\"dtype\":\"float32\",\"shape\":[1000]}},\"selected\":{\"id\":\"1169\",\"type\":\"Selection\"},\"selection_policy\":{\"id\":\"1170\",\"type\":\"UnionRenderers\"}},\"id\":\"1111\",\"type\":\"ColumnDataSource\"},{\"attributes\":{\"callback\":null},\"id\":\"1113\",\"type\":\"DataRange1d\"},{\"attributes\":{\"formatter\":{\"id\":\"1164\",\"type\":\"BasicTickFormatter\"},\"plot\":{\"id\":\"1112\",\"subtype\":\"Figure\",\"type\":\"Plot\"},\"ticker\":{\"id\":\"1122\",\"type\":\"BasicTicker\"}},\"id\":\"1121\",\"type\":\"LinearAxis\"},{\"attributes\":{},\"id\":\"1135\",\"type\":\"ResetTool\"},{\"attributes\":{},\"id\":\"1136\",\"type\":\"HelpTool\"},{\"attributes\":{},\"id\":\"1122\",\"type\":\"BasicTicker\"},{\"attributes\":{\"bottom_units\":\"screen\",\"fill_alpha\":{\"value\":0.5},\"fill_color\":{\"value\":\"lightgrey\"},\"left_units\":\"screen\",\"level\":\"overlay\",\"line_alpha\":{\"value\":1.0},\"line_color\":{\"value\":\"black\"},\"line_dash\":[4,4],\"line_width\":{\"value\":2},\"plot\":null,\"render_mode\":\"css\",\"right_units\":\"screen\",\"top_units\":\"screen\"},\"id\":\"1139\",\"type\":\"BoxAnnotation\"},{\"attributes\":{\"data_source\":{\"id\":\"1111\",\"type\":\"ColumnDataSource\"},\"glyph\":{\"id\":\"1147\",\"type\":\"Scatter\"},\"hover_glyph\":null,\"muted_glyph\":null,\"nonselection_glyph\":{\"id\":\"1148\",\"type\":\"Scatter\"},\"selection_glyph\":null,\"view\":{\"id\":\"1150\",\"type\":\"CDSView\"}},\"id\":\"1149\",\"type\":\"GlyphRenderer\"},{\"attributes\":{\"source\":{\"id\":\"1111\",\"type\":\"ColumnDataSource\"}},\"id\":\"1150\",\"type\":\"CDSView\"},{\"attributes\":{\"plot\":null,\"text\":\"\"},\"id\":\"1162\",\"type\":\"Title\"},{\"attributes\":{\"fill_alpha\":{\"value\":0.25},\"fill_color\":{\"field\":\"color\"},\"line_alpha\":{\"value\":0.25},\"line_color\":{\"field\":\"color\"},\"size\":{\"units\":\"screen\",\"value\":10},\"x\":{\"field\":\"x\"},\"y\":{\"field\":\"y\"}},\"id\":\"1147\",\"type\":\"Scatter\"}],\"root_ids\":[\"1112\"]},\"title\":\"Bokeh Application\",\"version\":\"1.0.4\"}};\n",
              "  var render_items = [{\"docid\":\"d79a92ef-013a-4f1e-b2d0-3f3dd29106a2\",\"roots\":{\"1112\":\"ae7697b2-0e6b-48c1-a6d9-9a223c287dad\"}}];\n",
              "  root.Bokeh.embed.embed_items_notebook(docs_json, render_items);\n",
              "\n",
              "  }\n",
              "  if (root.Bokeh !== undefined) {\n",
              "    embed_document(root);\n",
              "  } else {\n",
              "    var attempts = 0;\n",
              "    var timer = setInterval(function(root) {\n",
              "      if (root.Bokeh !== undefined) {\n",
              "        embed_document(root);\n",
              "        clearInterval(timer);\n",
              "      }\n",
              "      attempts++;\n",
              "      if (attempts > 100) {\n",
              "        console.log(\"Bokeh: ERROR: Unable to run BokehJS code because BokehJS library is missing\");\n",
              "        clearInterval(timer);\n",
              "      }\n",
              "    }, 10, root)\n",
              "  }\n",
              "})(window);"
            ],
            "application/vnd.bokehjs_exec.v0+json": ""
          },
          "metadata": {
            "tags": [],
            "application/vnd.bokehjs_exec.v0+json": {
              "id": "1112"
            }
          }
        },
        {
          "output_type": "execute_result",
          "data": {
            "text/html": [
              "<div style=\"display: table;\"><div style=\"display: table-row;\"><div style=\"display: table-cell;\"><b title=\"bokeh.plotting.figure.Figure\">Figure</b>(</div><div style=\"display: table-cell;\">id&nbsp;=&nbsp;'1112', <span id=\"1226\" style=\"cursor: pointer;\">&hellip;)</span></div></div><div class=\"1225\" style=\"display: none;\"><div style=\"display: table-cell;\"></div><div style=\"display: table-cell;\">above&nbsp;=&nbsp;[],</div></div><div class=\"1225\" style=\"display: none;\"><div style=\"display: table-cell;\"></div><div style=\"display: table-cell;\">aspect_scale&nbsp;=&nbsp;1,</div></div><div class=\"1225\" style=\"display: none;\"><div style=\"display: table-cell;\"></div><div style=\"display: table-cell;\">background_fill_alpha&nbsp;=&nbsp;{'value': 1.0},</div></div><div class=\"1225\" style=\"display: none;\"><div style=\"display: table-cell;\"></div><div style=\"display: table-cell;\">background_fill_color&nbsp;=&nbsp;{'value': '#ffffff'},</div></div><div class=\"1225\" style=\"display: none;\"><div style=\"display: table-cell;\"></div><div style=\"display: table-cell;\">below&nbsp;=&nbsp;[LinearAxis(id='1121', ...)],</div></div><div class=\"1225\" style=\"display: none;\"><div style=\"display: table-cell;\"></div><div style=\"display: table-cell;\">border_fill_alpha&nbsp;=&nbsp;{'value': 1.0},</div></div><div class=\"1225\" style=\"display: none;\"><div style=\"display: table-cell;\"></div><div style=\"display: table-cell;\">border_fill_color&nbsp;=&nbsp;{'value': '#ffffff'},</div></div><div class=\"1225\" style=\"display: none;\"><div style=\"display: table-cell;\"></div><div style=\"display: table-cell;\">css_classes&nbsp;=&nbsp;[],</div></div><div class=\"1225\" style=\"display: none;\"><div style=\"display: table-cell;\"></div><div style=\"display: table-cell;\">disabled&nbsp;=&nbsp;False,</div></div><div class=\"1225\" style=\"display: none;\"><div style=\"display: table-cell;\"></div><div style=\"display: table-cell;\">extra_x_ranges&nbsp;=&nbsp;{},</div></div><div class=\"1225\" style=\"display: none;\"><div style=\"display: table-cell;\"></div><div style=\"display: table-cell;\">extra_y_ranges&nbsp;=&nbsp;{},</div></div><div class=\"1225\" style=\"display: none;\"><div style=\"display: table-cell;\"></div><div style=\"display: table-cell;\">h_symmetry&nbsp;=&nbsp;True,</div></div><div class=\"1225\" style=\"display: none;\"><div style=\"display: table-cell;\"></div><div style=\"display: table-cell;\">height&nbsp;=&nbsp;None,</div></div><div class=\"1225\" style=\"display: none;\"><div style=\"display: table-cell;\"></div><div style=\"display: table-cell;\">hidpi&nbsp;=&nbsp;True,</div></div><div class=\"1225\" style=\"display: none;\"><div style=\"display: table-cell;\"></div><div style=\"display: table-cell;\">js_event_callbacks&nbsp;=&nbsp;{},</div></div><div class=\"1225\" style=\"display: none;\"><div style=\"display: table-cell;\"></div><div style=\"display: table-cell;\">js_property_callbacks&nbsp;=&nbsp;{},</div></div><div class=\"1225\" style=\"display: none;\"><div style=\"display: table-cell;\"></div><div style=\"display: table-cell;\">left&nbsp;=&nbsp;[LinearAxis(id='1126', ...)],</div></div><div class=\"1225\" style=\"display: none;\"><div style=\"display: table-cell;\"></div><div style=\"display: table-cell;\">lod_factor&nbsp;=&nbsp;10,</div></div><div class=\"1225\" style=\"display: none;\"><div style=\"display: table-cell;\"></div><div style=\"display: table-cell;\">lod_interval&nbsp;=&nbsp;300,</div></div><div class=\"1225\" style=\"display: none;\"><div style=\"display: table-cell;\"></div><div style=\"display: table-cell;\">lod_threshold&nbsp;=&nbsp;2000,</div></div><div class=\"1225\" style=\"display: none;\"><div style=\"display: table-cell;\"></div><div style=\"display: table-cell;\">lod_timeout&nbsp;=&nbsp;500,</div></div><div class=\"1225\" style=\"display: none;\"><div style=\"display: table-cell;\"></div><div style=\"display: table-cell;\">match_aspect&nbsp;=&nbsp;False,</div></div><div class=\"1225\" style=\"display: none;\"><div style=\"display: table-cell;\"></div><div style=\"display: table-cell;\">min_border&nbsp;=&nbsp;5,</div></div><div class=\"1225\" style=\"display: none;\"><div style=\"display: table-cell;\"></div><div style=\"display: table-cell;\">min_border_bottom&nbsp;=&nbsp;None,</div></div><div class=\"1225\" style=\"display: none;\"><div style=\"display: table-cell;\"></div><div style=\"display: table-cell;\">min_border_left&nbsp;=&nbsp;None,</div></div><div class=\"1225\" style=\"display: none;\"><div style=\"display: table-cell;\"></div><div style=\"display: table-cell;\">min_border_right&nbsp;=&nbsp;None,</div></div><div class=\"1225\" style=\"display: none;\"><div style=\"display: table-cell;\"></div><div style=\"display: table-cell;\">min_border_top&nbsp;=&nbsp;None,</div></div><div class=\"1225\" style=\"display: none;\"><div style=\"display: table-cell;\"></div><div style=\"display: table-cell;\">name&nbsp;=&nbsp;None,</div></div><div class=\"1225\" style=\"display: none;\"><div style=\"display: table-cell;\"></div><div style=\"display: table-cell;\">outline_line_alpha&nbsp;=&nbsp;{'value': 1.0},</div></div><div class=\"1225\" style=\"display: none;\"><div style=\"display: table-cell;\"></div><div style=\"display: table-cell;\">outline_line_cap&nbsp;=&nbsp;'butt',</div></div><div class=\"1225\" style=\"display: none;\"><div style=\"display: table-cell;\"></div><div style=\"display: table-cell;\">outline_line_color&nbsp;=&nbsp;{'value': '#e5e5e5'},</div></div><div class=\"1225\" style=\"display: none;\"><div style=\"display: table-cell;\"></div><div style=\"display: table-cell;\">outline_line_dash&nbsp;=&nbsp;[],</div></div><div class=\"1225\" style=\"display: none;\"><div style=\"display: table-cell;\"></div><div style=\"display: table-cell;\">outline_line_dash_offset&nbsp;=&nbsp;0,</div></div><div class=\"1225\" style=\"display: none;\"><div style=\"display: table-cell;\"></div><div style=\"display: table-cell;\">outline_line_join&nbsp;=&nbsp;'bevel',</div></div><div class=\"1225\" style=\"display: none;\"><div style=\"display: table-cell;\"></div><div style=\"display: table-cell;\">outline_line_width&nbsp;=&nbsp;{'value': 1},</div></div><div class=\"1225\" style=\"display: none;\"><div style=\"display: table-cell;\"></div><div style=\"display: table-cell;\">output_backend&nbsp;=&nbsp;'canvas',</div></div><div class=\"1225\" style=\"display: none;\"><div style=\"display: table-cell;\"></div><div style=\"display: table-cell;\">plot_height&nbsp;=&nbsp;400,</div></div><div class=\"1225\" style=\"display: none;\"><div style=\"display: table-cell;\"></div><div style=\"display: table-cell;\">plot_width&nbsp;=&nbsp;600,</div></div><div class=\"1225\" style=\"display: none;\"><div style=\"display: table-cell;\"></div><div style=\"display: table-cell;\">renderers&nbsp;=&nbsp;[LinearAxis(id='1121', ...), Grid(id='1125', ...), LinearAxis(id='1126', ...), Grid(id='1130', ...), BoxAnnotation(id='1139', ...), GlyphRenderer(id='1149', ...)],</div></div><div class=\"1225\" style=\"display: none;\"><div style=\"display: table-cell;\"></div><div style=\"display: table-cell;\">right&nbsp;=&nbsp;[],</div></div><div class=\"1225\" style=\"display: none;\"><div style=\"display: table-cell;\"></div><div style=\"display: table-cell;\">sizing_mode&nbsp;=&nbsp;'fixed',</div></div><div class=\"1225\" style=\"display: none;\"><div style=\"display: table-cell;\"></div><div style=\"display: table-cell;\">subscribed_events&nbsp;=&nbsp;[],</div></div><div class=\"1225\" style=\"display: none;\"><div style=\"display: table-cell;\"></div><div style=\"display: table-cell;\">tags&nbsp;=&nbsp;[],</div></div><div class=\"1225\" style=\"display: none;\"><div style=\"display: table-cell;\"></div><div style=\"display: table-cell;\">title&nbsp;=&nbsp;Title(id='1162', ...),</div></div><div class=\"1225\" style=\"display: none;\"><div style=\"display: table-cell;\"></div><div style=\"display: table-cell;\">title_location&nbsp;=&nbsp;'above',</div></div><div class=\"1225\" style=\"display: none;\"><div style=\"display: table-cell;\"></div><div style=\"display: table-cell;\">toolbar&nbsp;=&nbsp;Toolbar(id='1137', ...),</div></div><div class=\"1225\" style=\"display: none;\"><div style=\"display: table-cell;\"></div><div style=\"display: table-cell;\">toolbar_location&nbsp;=&nbsp;'right',</div></div><div class=\"1225\" style=\"display: none;\"><div style=\"display: table-cell;\"></div><div style=\"display: table-cell;\">toolbar_sticky&nbsp;=&nbsp;True,</div></div><div class=\"1225\" style=\"display: none;\"><div style=\"display: table-cell;\"></div><div style=\"display: table-cell;\">v_symmetry&nbsp;=&nbsp;False,</div></div><div class=\"1225\" style=\"display: none;\"><div style=\"display: table-cell;\"></div><div style=\"display: table-cell;\">width&nbsp;=&nbsp;None,</div></div><div class=\"1225\" style=\"display: none;\"><div style=\"display: table-cell;\"></div><div style=\"display: table-cell;\">x_range&nbsp;=&nbsp;DataRange1d(id='1113', ...),</div></div><div class=\"1225\" style=\"display: none;\"><div style=\"display: table-cell;\"></div><div style=\"display: table-cell;\">x_scale&nbsp;=&nbsp;LinearScale(id='1117', ...),</div></div><div class=\"1225\" style=\"display: none;\"><div style=\"display: table-cell;\"></div><div style=\"display: table-cell;\">y_range&nbsp;=&nbsp;DataRange1d(id='1115', ...),</div></div><div class=\"1225\" style=\"display: none;\"><div style=\"display: table-cell;\"></div><div style=\"display: table-cell;\">y_scale&nbsp;=&nbsp;LinearScale(id='1119', ...))</div></div></div>\n",
              "<script>\n",
              "(function() {\n",
              "  var expanded = false;\n",
              "  var ellipsis = document.getElementById(\"1226\");\n",
              "  ellipsis.addEventListener(\"click\", function() {\n",
              "    var rows = document.getElementsByClassName(\"1225\");\n",
              "    for (var i = 0; i < rows.length; i++) {\n",
              "      var el = rows[i];\n",
              "      el.style.display = expanded ? \"none\" : \"table-row\";\n",
              "    }\n",
              "    ellipsis.innerHTML = expanded ? \"&hellip;)\" : \"&lsaquo;&lsaquo;&lsaquo;\";\n",
              "    expanded = !expanded;\n",
              "  });\n",
              "})();\n",
              "</script>\n"
            ],
            "text/plain": [
              "Figure(id='1112', ...)"
            ]
          },
          "metadata": {
            "tags": []
          },
          "execution_count": 23
        }
      ]
    },
    {
      "cell_type": "code",
      "metadata": {
        "id": "_6LdLOsJN9Dp",
        "colab_type": "code",
        "colab": {}
      },
      "source": [
        "def get_phrase_embedding(phrase):\n",
        "    \"\"\"\n",
        "    Convert phrase to a vector by aggregating it's word embeddings. See description above.\n",
        "    \"\"\"\n",
        "    # 1. lowercase phrase\n",
        "    # 2. tokenize phrase\n",
        "    # 3. average word vectors for all words in tokenized phrase\n",
        "    # skip words that are not in model's vocabulary\n",
        "    # if all words are missing from vocabulary, return zeros\n",
        "    \n",
        "    vector = np.zeros([model.vector_size], dtype='float32')\n",
        "    count = 0\n",
        "    \n",
        "    for word in tokenizer.tokenize(phrase.lower()):\n",
        "      if word in model.vocab:\n",
        "        vector += model.get_vector(word)\n",
        "        count += 1\n",
        "    if count > 0:\n",
        "      vector = vector / count\n",
        "    \n",
        "    return vector\n",
        "        \n",
        "    "
      ],
      "execution_count": 0,
      "outputs": []
    },
    {
      "cell_type": "code",
      "metadata": {
        "id": "mimxxgt0Un-G",
        "colab_type": "code",
        "colab": {
          "base_uri": "https://localhost:8080/",
          "height": 163
        },
        "outputId": "15a71c6f-538a-4cfb-b776-f1397b02dd62"
      },
      "source": [
        "vector [::10]"
      ],
      "execution_count": 27,
      "outputs": [
        {
          "output_type": "error",
          "ename": "NameError",
          "evalue": "ignored",
          "traceback": [
            "\u001b[0;31m---------------------------------------------------------------------------\u001b[0m",
            "\u001b[0;31mNameError\u001b[0m                                 Traceback (most recent call last)",
            "\u001b[0;32m<ipython-input-27-a9b4c95c43f0>\u001b[0m in \u001b[0;36m<module>\u001b[0;34m()\u001b[0m\n\u001b[0;32m----> 1\u001b[0;31m \u001b[0mvector\u001b[0m \u001b[0;34m[\u001b[0m\u001b[0;34m:\u001b[0m\u001b[0;34m:\u001b[0m\u001b[0;36m10\u001b[0m\u001b[0;34m]\u001b[0m\u001b[0;34m\u001b[0m\u001b[0;34m\u001b[0m\u001b[0m\n\u001b[0m",
            "\u001b[0;31mNameError\u001b[0m: name 'vector' is not defined"
          ]
        }
      ]
    },
    {
      "cell_type": "code",
      "metadata": {
        "id": "WZmySD9uN9Du",
        "colab_type": "code",
        "colab": {}
      },
      "source": [
        "vector = get_phrase_embedding(\"I'm very sure. This never happened to me before...\")\n",
        "\n",
        "assert np.allclose(vector[::10],\n",
        "                   np.array([ 0.31807372, -0.02558171,  0.0933293 , -0.1002182 , -1.0278689 ,\n",
        "                             -0.16621883,  0.05083408,  0.17989802,  1.3701859 ,  0.08655966],\n",
        "                             dtype=np.float32))"
      ],
      "execution_count": 0,
      "outputs": []
    },
    {
      "cell_type": "code",
      "metadata": {
        "id": "HpjzYjDbN9D1",
        "colab_type": "code",
        "colab": {}
      },
      "source": [
        "# let's only consider ~5k phrases for a first run.\n",
        "chosen_phrases = data[::len(data) // 1000]\n",
        "\n",
        "# compute vectors for chosen phrases\n",
        "phrase_vectors = np.array([get_phrase_embedding(phrase) for phrase in chosen_phrases])"
      ],
      "execution_count": 0,
      "outputs": []
    },
    {
      "cell_type": "code",
      "metadata": {
        "id": "LohTWy-LN9D7",
        "colab_type": "code",
        "colab": {}
      },
      "source": [
        "assert isinstance(phrase_vectors, np.ndarray) and np.isfinite(phrase_vectors).all()\n",
        "assert phrase_vectors.shape == (len(chosen_phrases), model.vector_size)"
      ],
      "execution_count": 0,
      "outputs": []
    },
    {
      "cell_type": "code",
      "metadata": {
        "id": "wpdm1SclN9EB",
        "colab_type": "code",
        "colab": {
          "base_uri": "https://localhost:8080/",
          "height": 306
        },
        "outputId": "aab0efa0-a71b-47f3-c909-93f0a60ab73d"
      },
      "source": [
        "# map vectors into 2d space with pca, tsne or your other method of choice\n",
        "# don't forget to normalize\n",
        "\n",
        "phrase_vectors_2d = TSNE(verbose=1000).fit_transform(phrase_vectors)\n",
        "\n",
        "phrase_vectors_2d = (phrase_vectors_2d - phrase_vectors_2d.mean(axis=0)) / phrase_vectors_2d.std(axis=0)"
      ],
      "execution_count": 0,
      "outputs": [
        {
          "output_type": "stream",
          "text": [
            "[t-SNE] Computing 91 nearest neighbors...\n",
            "[t-SNE] Indexed 1001 samples in 0.005s...\n",
            "[t-SNE] Computed neighbors for 1001 samples in 0.246s...\n",
            "[t-SNE] Computed conditional probabilities for sample 1000 / 1001\n",
            "[t-SNE] Computed conditional probabilities for sample 1001 / 1001\n",
            "[t-SNE] Mean sigma: 0.477874\n",
            "[t-SNE] Computed conditional probabilities in 0.052s\n",
            "[t-SNE] Iteration 50: error = 77.9431229, gradient norm = 0.3382303 (50 iterations in 12.668s)\n",
            "[t-SNE] Iteration 100: error = 78.5211716, gradient norm = 0.3263013 (50 iterations in 12.262s)\n",
            "[t-SNE] Iteration 150: error = 79.7952499, gradient norm = 0.3327468 (50 iterations in 62.120s)\n",
            "[t-SNE] Iteration 200: error = 80.5905457, gradient norm = 0.2909382 (50 iterations in 431.651s)\n",
            "[t-SNE] Iteration 250: error = 82.3203278, gradient norm = 0.2903359 (50 iterations in 632.602s)\n",
            "[t-SNE] KL divergence after 250 iterations with early exaggeration: 82.320328\n",
            "[t-SNE] Iteration 300: error = 2.0890138, gradient norm = 0.0032030 (50 iterations in 499.618s)\n",
            "[t-SNE] Iteration 350: error = 2.0078073, gradient norm = 0.0007542 (50 iterations in 449.618s)\n",
            "[t-SNE] Iteration 400: error = 1.9499052, gradient norm = 0.0007125 (50 iterations in 480.740s)\n",
            "[t-SNE] Iteration 450: error = 1.9187888, gradient norm = 0.0005341 (50 iterations in 527.121s)\n"
          ],
          "name": "stdout"
        }
      ]
    },
    {
      "cell_type": "code",
      "metadata": {
        "id": "6ZZnK6sBN9EF",
        "colab_type": "code",
        "colab": {}
      },
      "source": [
        "draw_vectors(phrase_vectors_2d[:, 0], phrase_vectors_2d[:, 1],\n",
        "             phrase=[phrase[:50] for phrase in chosen_phrases],\n",
        "             radius=20,)"
      ],
      "execution_count": 0,
      "outputs": []
    },
    {
      "cell_type": "code",
      "metadata": {
        "id": "k5vUSbByN9EN",
        "colab_type": "code",
        "colab": {}
      },
      "source": [
        "# compute vector embedding for all lines in data\n",
        "data_vectors = np.array([get_phrase_embedding(l) for l in data])"
      ],
      "execution_count": 0,
      "outputs": []
    },
    {
      "cell_type": "code",
      "metadata": {
        "id": "YbMNuj47N9EU",
        "colab_type": "code",
        "colab": {}
      },
      "source": [
        "def find_nearest(query, k=10):\n",
        "    \"\"\"\n",
        "    given text line (query), return k most similar lines from data, sorted from most to least similar\n",
        "    similarity should be measured as cosine between query and line embedding vectors\n",
        "    hint: it's okay to use global variables: data and data_vectors. see also: np.argpartition, np.argsort\n",
        "    \"\"\"\n",
        "    # YOUR CODE\n",
        "    \n",
        "    return <YOUR CODE: top-k lines starting from most similar>"
      ],
      "execution_count": 0,
      "outputs": []
    },
    {
      "cell_type": "code",
      "metadata": {
        "id": "nwiidA3bN9Ec",
        "colab_type": "code",
        "colab": {}
      },
      "source": [
        "results = find_nearest(query=\"How do i enter the matrix?\", k=10)\n",
        "\n",
        "print(''.join(results))\n",
        "\n",
        "assert len(results) == 10 and isinstance(results[0], str)\n",
        "assert results[0] == 'How do I get to the dark web?\\n'\n",
        "assert results[3] == 'What can I do to save the world?\\n'"
      ],
      "execution_count": 0,
      "outputs": []
    },
    {
      "cell_type": "code",
      "metadata": {
        "id": "mo2mZk4xN9Ek",
        "colab_type": "code",
        "colab": {}
      },
      "source": [
        "find_nearest(query=\"How does Trump?\", k=10)"
      ],
      "execution_count": 0,
      "outputs": []
    },
    {
      "cell_type": "code",
      "metadata": {
        "id": "TFK9coW_N9Eq",
        "colab_type": "code",
        "colab": {}
      },
      "source": [
        "find_nearest(query=\"Why don't i ask a question myself?\", k=10)"
      ],
      "execution_count": 0,
      "outputs": []
    }
  ]
}
